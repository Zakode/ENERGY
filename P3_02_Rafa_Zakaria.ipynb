{
 "cells": [
  {
   "cell_type": "markdown",
   "metadata": {},
   "source": [
    "<font size=\"15\"><b>Project 乐吧泡菜味薯片 *!!!\n",
    "    \n",
    "<img src=\"https://world-fr.openfoodfacts.org/images/products/997/022/950/1521/front_zh.3.full.jpg\" \n",
    "     alt=\"乐吧泡菜味薯片 - Produit - zh\"\n",
    "     width=200\n",
    "     />\n",
    "    \n",
    "*translates to Fatmerican fries ?"
   ]
  },
  {
   "cell_type": "markdown",
   "metadata": {
    "id": "PwUFzJ3T46Xh"
   },
   "source": [
    "# import libs"
   ]
  },
  {
   "cell_type": "code",
   "execution_count": null,
   "metadata": {},
   "outputs": [],
   "source": [
    "#pip install missingno wordcloud"
   ]
  },
  {
   "cell_type": "raw",
   "metadata": {},
   "source": [
    "pip install itables\n",
    "from itables import init_notebook_mode\n",
    "init_notebook_mode(all_interactive=True)"
   ]
  },
  {
   "cell_type": "markdown",
   "metadata": {},
   "source": [
    "<font color='darkblue' size=16>MITO : Python data analysis in seconds\n",
    "\n",
    "https://www.trymito.io/\n",
    "https://docs.trymito.io/getting-started/installing-mito\n",
    "\n",
    "Mito allows the user to code much faster, by giving them a spreadsheet interface for Python that generates code."
   ]
  },
  {
   "cell_type": "code",
   "execution_count": 1,
   "metadata": {},
   "outputs": [
    {
     "data": {
      "application/vnd.jupyter.widget-view+json": {
       "model_id": "c8c1dd39e74c49b7b9e77effa7f72d8f",
       "version_major": 2,
       "version_minor": 0
      },
      "text/plain": [
       "MitoWidget(analysis_data_json='{\"analysisName\": \"id-neczppaakb\", \"analysisToReplay\": null, \"code\": [], \"stepSu…"
      ]
     },
     "metadata": {},
     "output_type": "display_data"
    }
   ],
   "source": [
    "#python -m pip install mitoinstaller\n",
    "#python -m mitoinstaller install\n",
    "\n",
    "import mitosheet\n",
    "mitosheet.sheet()\n"
   ]
  },
  {
   "cell_type": "code",
   "execution_count": 2,
   "metadata": {},
   "outputs": [
    {
     "data": {
      "application/vnd.jupyter.widget-view+json": {
       "model_id": "cceefac0b50b42a2a6feefb349c17d3d",
       "version_major": 2,
       "version_minor": 0
      },
      "text/plain": [
       "MitoWidget(analysis_data_json='{\"analysisName\": \"id-urbqrkasfb\", \"analysisToReplay\": null, \"code\": [], \"stepSu…"
      ]
     },
     "metadata": {},
     "output_type": "display_data"
    }
   ],
   "source": [
    "# create some simple data to display\n",
    "train_stations = pd.DataFrame({'Zip': [21001, 97321, 49224, 87102, 24910, 22301], 'City': ['Aberdeen', 'Albany', 'Albion', 'Albuquerque', 'Alderson', 'Alexandria'], 'State': ['MD', 'OR', 'MI', 'NM', 'WV', 'VA'], 'Ticket_Office': ['N', 'Y', 'N', 'Y', 'N', 'Y']})\n",
    "demographics = pd.DataFrame({'Zip': [21001, 97321, 49224, 87102, 24910, 22301], 'Median_Income': [53979.0, 112924.0, 37556.0, 28388.0, 30914.0, 54087.0], 'Mean_Income': [66169.0, 147076.0, 50371.0, 39529.0, 40028.0, 64068.0], 'Pop': [18974.0, 11162.0, 14900.0, 22204.0, 5383.0, 19504.0]})\n",
    "\n",
    "# render the Mitosheet with the data\n",
    "mitosheet.sheet(train_stations, demographics)"
   ]
  },
  {
   "cell_type": "code",
   "execution_count": 11,
   "metadata": {
    "executionInfo": {
     "elapsed": 11,
     "status": "ok",
     "timestamp": 1648138207726,
     "user": {
      "displayName": "zakaria rafa",
      "photoUrl": "https://lh3.googleusercontent.com/a-/AOh14Gh9p0ybZ-LAWwdcp8mrFKY7mObMQQ4XhjxqEzwaUA=s64",
      "userId": "03594001358715993439"
     },
     "user_tz": -60
    },
    "id": "11wyufVHPZT7"
   },
   "outputs": [
    {
     "data": {
      "application/javascript": [
       "if (typeof require !== 'undefined')\n",
       "    require.config({\n",
       "        paths: {\n",
       "            jquery: 'https://code.jquery.com/jquery-3.5.1.min',\n",
       "            datatables: 'https://cdn.datatables.net/1.11.3/js/jquery.dataTables.min',\n",
       "        }\n",
       "    });\n"
      ],
      "text/plain": [
       "<IPython.core.display.Javascript object>"
      ]
     },
     "metadata": {},
     "output_type": "display_data"
    }
   ],
   "source": [
    "import pandas as pd\n",
    "#from pandasgui import show\n",
    "\n",
    "\n",
    "import missingno as msno\n",
    "\n",
    "import matplotlib as mpl\n",
    "import matplotlib.pyplot as plt\n",
    "import matplotlib.ticker as ticker\n",
    "\n",
    "import seaborn as sns\n",
    "\n",
    "import numpy as np\n",
    "from scipy.stats import kurtosis,skew \n",
    "from sklearn.cluster import KMeans\n",
    "\n",
    "from wordcloud import WordCloud # Generate word cloud\n",
    "import imageio\n",
    "\n",
    "\n",
    "import os,glob,datetime\n",
    "\n",
    "from ipywidgets import widgets \n",
    "from ipywidgets.widgets import HTML,Output,HBox,Layout\n",
    "from ipywidgets import AppLayout,Button,Label\n"
   ]
  },
  {
   "cell_type": "markdown",
   "metadata": {},
   "source": [
    "# Custom functions"
   ]
  },
  {
   "cell_type": "markdown",
   "metadata": {
    "heading_collapsed": true
   },
   "source": [
    "## Function display Dates Col"
   ]
  },
  {
   "cell_type": "code",
   "execution_count": null,
   "metadata": {
    "hidden": true
   },
   "outputs": [],
   "source": [
    "def displayDate(df0,col) :\n",
    "    left = Output()\n",
    "    right = Output()\n",
    "    hbox = HBox([left,right])\n",
    "\n",
    "    with left :\n",
    "        describeNumCol(df0,col)\n",
    "    with right :\n",
    "        fig,[ax,ax1] = plt.subplots(2,1)\n",
    "\n",
    "        ax1.sharex = ax\n",
    "\n",
    "        sns.boxplot(x=df0[col].view(np.int64) ,\n",
    "                    notch=True,\n",
    "                    color=(0.1,0,0.2,0.5),\n",
    "                    ax = ax\n",
    "                    ).set_title(f\"distribution of {col}\")\n",
    "\n",
    "\n",
    "        ax.xaxis.set_visible(False)\n",
    "\n",
    "        # axe 1 ---------------------------------------------\n",
    "        df0[col].view(np.int64).plot.hist(ax=ax1)\n",
    "\n",
    "        ax1.set_ylabel(\"Nb observations\")\n",
    "\n",
    "        #ax1.xaxis.set_ticks(df0[col]) # should resolve warning message FixedFormatter should only be used together with FixedLocator but does not\n",
    "        ax1.xaxis.set_major_locator(ticker.AutoLocator())\n",
    "        ax1.set_xticklabels(labels=df0[col], rotation=45, ha='right')\n",
    "\n",
    "        plt.show()\n",
    "\n",
    "    display(hbox)\n"
   ]
  },
  {
   "cell_type": "markdown",
   "metadata": {
    "heading_collapsed": true
   },
   "source": [
    "## Function describeCatCol"
   ]
  },
  {
   "cell_type": "code",
   "execution_count": null,
   "metadata": {
    "hidden": true
   },
   "outputs": [],
   "source": [
    "def cutoffLF(df_values_desc,level=0.01) :\n",
    "\n",
    "    #let's cut off low frequencies < 1% and keeping top 10 only\n",
    "    focus_desc1 = df_values_desc[df_values_desc.freq > level ].sort_values(\"freq\")\n",
    "    lost1 =df_values_desc[df_values_desc.freq < level ]\n",
    "    \n",
    "    display((HTML(f\"\"\"<font color=\"red\"></b>Cutting off low frequency values(<{level})</font></b> \n",
    "    grouping {len(lost1)} values in Others category\n",
    "    ignored values are shown in word cloud below: \"\"\")))\n",
    "    \n",
    "    # other option : keeping top 10 + others / \n",
    "    # maybe it would be better to look for a good trade off between top n and quantile \n",
    "    #=> au filal on fait du PCA artisanal :(\n",
    "    \n",
    "    focus_desc = focus_desc1.head(10)\n",
    "    lost2 = focus_desc1.iloc[10: , :]\n",
    "    lost = pd.concat([lost1,lost2])\n",
    "    \n",
    "    focus_desc.loc[\"other\"] = [lost[\"nb_onservations\"].sum(),#nb_observations\n",
    "              lost[\"nb_onservations\"].sum()/focus_desc.nb_onservations.sum(),#freq\n",
    "              ]\n",
    "    \n",
    "    focus_desc[\"cumsum\"] = (focus_desc.nb_onservations/focus_desc.nb_onservations.sum()).cumsum()\n",
    "\n",
    "\n",
    "    lost_asString = ' '.join(lost.index.to_list() )\n",
    "    if len(lost_asString) >0 :\n",
    "        wc = WordCloud(width = 800, height = 300,).generate(lost_asString)\n",
    "\n",
    "        # plot the WordCloud image                        \n",
    "        plt.axis('off')\n",
    "        plt.imshow(wc)\n",
    "        plt.show() \n",
    "    else : \n",
    "        display(HTML(f\"no value has been removed\"))\n",
    "\n",
    "    return focus_desc"
   ]
  },
  {
   "cell_type": "code",
   "execution_count": null,
   "metadata": {
    "hidden": true
   },
   "outputs": [],
   "source": [
    "def describeCatCol(df,colName,cutoff=0.01,log=False,l=12,L=6) :\n",
    "    \"\"\"\n",
    "    plot the distribution of values for a given variable\n",
    "    args : \n",
    "    - cutoff : groupe all frequencies < cutoff in teh category Others (default = 1%)\n",
    "    - log : display y axes in log \n",
    "    - l : figure height\n",
    "    - L : figre width\n",
    "    \"\"\"\n",
    "\n",
    "    n = len(df[colName])\n",
    "    \n",
    "    \n",
    "    df_values_desc = pd.DataFrame(\n",
    "                        [df[colName].value_counts(),\n",
    "                         df[colName].value_counts()/n,\n",
    "                        ]\n",
    "                        ).transpose()\n",
    "    df_values_desc.columns=[\"nb_onservations\",\"freq\"]\n",
    "\n",
    "    \n",
    "    display(HTML(f\"There are {n} unique values, {100*df[colName].isna().sum()/n:.2f}% missing values\"))\n",
    "\n",
    "    focus_desc = cutoffLF(df_values_desc,cutoff)\n",
    "\n",
    "    #sempre fare la bella figura\n",
    "    fig,ax = plt.subplots(figsize=(l,L) )\n",
    "    ax.xaxis.set_visible(False)\n",
    "    ax.yaxis.set_visible(False)\n",
    "    plt.title(f\"Description of {colName}\",\n",
    "            fontdict={\n",
    "                'fontsize': 30,\n",
    "                'fontweight' : \"bold\" ,\n",
    "                'verticalalignment': 'baseline',\n",
    "                'horizontalalignment': 'center'},\n",
    "            pad =50,\n",
    "            )\n",
    "\n",
    "    # grid specification\n",
    "    gs = fig.add_gridspec(2,1)\n",
    "    ax1 = fig.add_subplot(gs[0, 0])\n",
    "    ax2 = fig.add_subplot(gs[1, 0])\n",
    "\n",
    "    # ax1 : bar plot of cumsum\n",
    "    ax1.set_title(f'Value distrubution for {colName} (frequency cumsum)', fontsize=12)\n",
    "    ax1.set_xlabel(f'{colName} possible values', fontsize=20)\n",
    "    ax1.set_xticklabels( \n",
    "                    labels = focus_desc.index.str.slice(0,20),\n",
    "                    rotation=45,\n",
    "                    fontsize=14\n",
    "                    )\n",
    "    ax1.set_ylabel('frequency cumsum', fontsize=20) \n",
    "    if log :\n",
    "        ax1.set_yscale('log')\n",
    "\n",
    "\n",
    "    ax1.bar(x=focus_desc.index,\n",
    "            height=focus_desc[\"cumsum\"]\n",
    "           )\n",
    "    ax1.plot(focus_desc[\"cumsum\"],\n",
    "             color='red'\n",
    "            )\n",
    "    #show values on top of bars \n",
    "    for bars in ax1.containers:\n",
    "        ax1.bar_label(bars)\n",
    "\n",
    "    # ax2 : bar plot of freq \n",
    "    sns.barplot(x=\"freq\", \n",
    "              y=focus_desc.index, \n",
    "              data=focus_desc,\n",
    "              palette=\"flare\",\n",
    "              orient='h',\n",
    "              ax=ax2\n",
    "              )\n",
    "    ax2.set_xlabel('Frequency', fontsize=20)\n",
    "    ax2.set_ylabel(f'{colName} possible values', fontsize=20) \n",
    "\n",
    "\n",
    "    plt.subplots_adjust(left=None, bottom=None, right=2, top=None, wspace=None, hspace=1)\n",
    "    #left  = 0.125  # the left side of the subplots of the figure\n",
    "    #right = 0.9    # the right side of the subplots of the figure\n",
    "    #bottom = 0.1   # the bottom of the subplots of the figure\n",
    "    #top = 0.9      # the top of the subplots of the figure\n",
    "    #wspace = 0.2   # the amount of width reserved for blank space between subplots\n",
    "    #hspace = 0.2   # the amount of height reserved for white space between subplots\n",
    "\n",
    "    plt.xticks(fontsize=12)\n",
    "    plt.yticks(fontsize=12)\n",
    "    plt.show()\n",
    "\n",
    "    return df_values_desc"
   ]
  },
  {
   "cell_type": "markdown",
   "metadata": {
    "heading_collapsed": true
   },
   "source": [
    "## Function describeNumCol"
   ]
  },
  {
   "cell_type": "code",
   "execution_count": null,
   "metadata": {
    "hidden": true
   },
   "outputs": [],
   "source": [
    "def describeNumCol (df,colName) :\n",
    "    \"\"\"\n",
    "    describe a numeric column with basic stats and graphics\n",
    "    \"\"\"\n",
    "\n",
    "    n = len(df[colName])\n",
    "\n",
    "    # calculate sample kurtosis ###################################################\n",
    "    \n",
    "    gamma1 = kurtosis(df[colName].values.astype(np.int64), bias=False)\n",
    "    #The kurtosis of a normal distribution is 3.\n",
    "    #kurtosis less than 3 : playkurtic, which means it tends to produce fewer and less extreme outliers than the normal distribution.\n",
    "    #kurtosis greater than 3, : leptokurtic, which means it tends to produce more outliers than the normal distribution.\n",
    "    if gamma1 <2.9 : \n",
    "        interp_gamma1 =  \"playkurtic (concentrated)\"\n",
    "    elif gamma1 >3.1 :\n",
    "        interp_gamma1 =  \"leptokurtic (many outliers)\"\n",
    "    else : \n",
    "        interp_gamma1 = \"distribution is normal\"\n",
    "    ################################################################################\n",
    "\n",
    "    # calculate sample skewness  ###################################################\n",
    "    \n",
    "    gamma2 = skew(df[colName].values.astype(np.int64), bias=False)\n",
    "    #A negative skew = the tail is on the left side of the distribution, which extends towards more negative values.\n",
    "    #A positive skew = the tail is on the right side of the distribution, which extends towards more positive values.\n",
    "    #A value of zero = there is no skewness in the distribution at all, meaning the distribution is perfectly symmetrical.\n",
    "    if gamma2 <-0.2 : \n",
    "        interp_gamma2 =  \"tail is on the left side of the distribution\"\n",
    "    elif gamma2 >0.2 :\n",
    "        interp_gamma2 =  \"tail is on the right side of the distribution\"\n",
    "    else : \n",
    "        interp_gamma2 = \"distribution is symmetrical\"\n",
    "    #################################################################################\n",
    "\n",
    "\n",
    "    # calculate Lorentz and Gini  ###################################################\n",
    "    \n",
    "    lorenz = np.cumsum(np.sort(df[colName].values.astype(np.int64))) / df[colName].values.astype(np.int64).sum()\n",
    "    lorenz = np.append([0],lorenz) # La courbe de Lorenz commence à 0\n",
    "    AUC = (lorenz.sum() -lorenz[-1]/2 -lorenz[0]/2)/n # Surface sous la courbe de Lorenz. Le premier segment (lorenz[0]) est à moitié en dessous de 0, on le coupe donc en 2, on fait de même pour le dernier segment lorenz[-1] qui est à moitié au dessus de 1.\n",
    "    S = 0.5 - AUC # surface entre la première bissectrice et le courbe de Lorenz\n",
    "    gini = 2*S\n",
    "    gini\n",
    "    ##################################################################################\n",
    "    \n",
    "    # report all indicators in a dataframe  ##########################################\n",
    "    full_desc = df[[colName]].describe(datetime_is_numeric=True)\n",
    "    full_desc.loc[\"Unique values%\"] = f\"{100*df[colName].nunique()/n:.2f}\"\n",
    "    full_desc.loc[\"Missing values%\"] = f\"{100*df[colName].isna().sum()/len(df[colName]):.2f}\"\n",
    "    full_desc.loc[\"Kurtosis\"] = gamma1\n",
    "    full_desc.loc[\"Kurto desc\"] = interp_gamma1\n",
    "    full_desc.loc[\"Skew\"] = gamma2\n",
    "    full_desc.loc[\"Skew desc\"] = interp_gamma2\n",
    "    full_desc.loc[\"Gini\"] = gini\n",
    "    ##################################################################################\n",
    "    ##################################################################################\n",
    "    \n",
    "    display(full_desc)"
   ]
  },
  {
   "cell_type": "code",
   "execution_count": null,
   "metadata": {
    "hidden": true
   },
   "outputs": [],
   "source": [
    "def displayNumCol(df,colName) :\n",
    "    \n",
    "    dist_series = df[colName].value_counts()\n",
    "    \n",
    "    fig,ax = plt.subplots(figsize=(20,15) )\n",
    "    ax.xaxis.set_visible(False)\n",
    "    ax.yaxis.set_visible(False)\n",
    "    plt.title(f\"Variable {colName}\",\n",
    "            fontdict={\n",
    "                'fontsize': 24,\n",
    "                'fontweight' : \"bold\" ,\n",
    "                'verticalalignment': 'baseline',\n",
    "                'horizontalalignment': 'center'},\n",
    "            pad =50,\n",
    "            )\n",
    "\n",
    "    # grid specification\n",
    "    gs = fig.add_gridspec(3,2)\n",
    "    ax1 = fig.add_subplot(gs[0, 0])\n",
    "\n",
    "    ax2 = fig.add_subplot(gs[1, 0])\n",
    "    ax2.sharex = ax1\n",
    "\n",
    "    ax3 = fig.add_subplot(gs[0, 1])\n",
    "    ax3.sharey = ax1\n",
    "\n",
    "    ax4 = fig.add_subplot(gs[1, 1])\n",
    "\n",
    "    ax5 = fig.add_subplot(gs[2, 1])\n",
    "\n",
    "\n",
    "    # axe 1 ---------------------------------------------\n",
    "    ax1.bar(dist_series.index,dist_series, color='b')\n",
    "    ax1.set_title('Distribution of values')\n",
    "    ax1.set_ylabel(\"Nb observations\")\n",
    "    ax1.xaxis.set_tick_params(rotation=45)\n",
    "\n",
    "    # axe 2 ---------------------------------------------\n",
    "    sns.histplot(x=dist_series.index, kde=True, stat='density',ax=ax2 )\n",
    "    ax2.xaxis.set_visible(False)\n",
    "    ax2.set_title('Density KDE')\n",
    "    ax2.set_ylabel(colName)\n",
    "    ax2.invert_yaxis()\n",
    "\n",
    "    # axe 3 ---------------------------------------------\n",
    "    sns.histplot(y=dist_series, kde=True, stat='density',ax=ax3 )\n",
    "    ax3.xaxis.set_visible(False)\n",
    "    ax3.set_title('Density KDE')\n",
    "    ax3.set_ylabel(\"Nb Observation\")\n",
    "\n",
    "    # axe 4 ---------------------------------------------\n",
    "    sns.boxplot(x=df[colName], ax =ax4,notch=True,color=(1,0,1,0.5))\n",
    "    ax4.set_xlabel(colName)\n",
    "    ax4.set_title('Distribution of values Boite a mous')\n",
    "\n",
    "\n",
    "    # axe 5 -----------------------------------------------\n",
    "\n",
    "    xaxis = np.linspace(0-1/n,1+1/n,len(lorenz)) #one segment of len n for each individual + 1 additional segment at the origine 0. \n",
    "    #first segment starts at 0-1/n, las ends at 1+1/n.\n",
    "    ax5.plot(xaxis,lorenz,drawstyle='steps-post')\n",
    "    ax5.plot([0,1], [0,1]) #bisector\n",
    "    ax5.set_title('Lorentz distribution')\n",
    "    \n",
    "    plt.show()\n"
   ]
  },
  {
   "cell_type": "code",
   "execution_count": null,
   "metadata": {
    "hidden": true
   },
   "outputs": [],
   "source": [
    "def screenNumCol (df,colName) :\n",
    "    ## prepare widgets outputs  ***************************************\n",
    "    graph = widgets.Output()\n",
    "    table = widgets.Output(layout=widgets.Layout(margin='0 50px 0 0'))\n",
    "    hLayout = widgets.HBox([table,graph])\n",
    "    \n",
    "    # display ---------------------------------------------\n",
    "\n",
    "    with graph :\n",
    "        graph.clear_output()\n",
    "        displayNumCol(df,colName)\n",
    "    with table :\n",
    "        table.clear_output()\n",
    "        describeNumCol(df,colName)\n",
    "\n",
    "    display(hLayout)"
   ]
  },
  {
   "cell_type": "markdown",
   "metadata": {
    "heading_collapsed": true
   },
   "source": [
    "## Method Convert col dtype"
   ]
  },
  {
   "cell_type": "code",
   "execution_count": null,
   "metadata": {
    "hidden": true
   },
   "outputs": [],
   "source": [
    "def convert_col(df0,col,target_type,loss_threshold=3,inplace=True) :\n",
    "    \"\"\" converts a column of a given dataframe to a target type after verifying the information loss <3% (default)    \n",
    "    if compliant with the max information loss condition : changes are made in place  \n",
    "    otherwise returns the lost information table\n",
    "    \"\"\"\n",
    "\n",
    "    display(HTML(f\"\"\"<h2>{col} convertion\"\"\"))\n",
    "\n",
    "    #nb na before \n",
    "    nb_na_before = df0[col].isna().sum()\n",
    "    \n",
    "    #convert col to num\n",
    "    df1 = pd.DataFrame()\n",
    "    \n",
    "    if target_type in [\"float\",\"int\",\"string\"] :\n",
    "        df1[col] = df0[col].astype(target_type)\n",
    "    \n",
    "    elif target_type == \"datetime\" : \n",
    "        df1[col] = pd.to_datetime(df0[\"created_t\"] , unit='s',errors = \"coerce\")\n",
    "        \n",
    "    else :\n",
    "        display(\"error : unrecog type\")\n",
    "    \n",
    "    \n",
    "    #nb na after\n",
    "    nb_na_after = df1[col].isna().sum()\n",
    "\n",
    "    ap = pd.concat([df0[col],df1[col],],axis=1)\n",
    "    ap.columns=[f\"before\",\"after\"]\n",
    "\n",
    "    display (HTML(f\"\"\"Nb na diff : {nb_na_before-nb_na_after}, \n",
    "    before = {nb_na_before}, after nb na = {nb_na_after}\n",
    "    \"\"\"))\n",
    "    display(ap.sample(4))\n",
    "    display(ap.dtypes)\n",
    "    \n",
    "    #report loss information\n",
    "    lost = df0[df0[col].notna() & df1[col].isna()]\n",
    "    \n",
    "    if (nb_na_before-nb_na_after)*100/len(df0) < loss_threshold :\n",
    "        df0[col] = df1[col]\n",
    "        display(HTML(\"<div class='alert alert-block alert-success'> Valide transformation, registered in place\"))\n",
    "\n",
    "    else :\n",
    "        display(HTML(\"<div class='alert alert-block alert-danger'> Invalide transformation - too much information lost\"))\n",
    "\n",
    "    if len(lost) > 0 :\n",
    "        display(HTML(\"<font color='red'>Information lost (sample):\"))\n",
    "        display(lost.sample(4))\n",
    "        \n",
    "    #describeNumCol(df0,col)\n",
    "    \n",
    "    return lost\n"
   ]
  },
  {
   "cell_type": "markdown",
   "metadata": {},
   "source": [
    "## clean1"
   ]
  },
  {
   "cell_type": "code",
   "execution_count": null,
   "metadata": {},
   "outputs": [],
   "source": [
    "# for future usage check all col fill rate , unique value rate and duplicates\n",
    "def clean1(df_raw) :\n",
    "    \"\"\"\n",
    "for a given dataframe, on a copy :\n",
    "      - Drops empty variables\n",
    "      - Strip categorial variables\n",
    "\n",
    "Returns the dataframe and 2 descriptions dictionary (basic stats + convertion errors)  \n",
    "  \"\"\"\n",
    "\n",
    "    df = df_raw.copy()\n",
    "\n",
    "    nb_num = 0\n",
    "    nb_cat = 0\n",
    "\n",
    "    nb_dup = df.duplicated().sum()\n",
    "    dupRate = nb_dup/len(df)\n",
    "\n",
    "    (nb_rowsBefore,nb_colsBefore) = df.shape\n",
    "\n",
    "    #print(f\"\"\"Sample Data BEFORE : \"\"\")\n",
    "    #display(df.head(3))\n",
    "\n",
    "    newRow = {}\n",
    "    desc_dict = {} #keys=[\"dataType\",\"nbFilled\",\"fillRate%\",\"uniqueVal\",\"uvRate%\"])\n",
    "    errors_dict={}\n",
    "\n",
    "\n",
    "    display(HTML(f\"\"\"\n",
    "    <h1><strong>  Cleaining df : </h1>\n",
    "\n",
    "    <h2>Renaming columns (strip and replace white spaces with underscores) </h2></strong>\n",
    "    \"\"\"))\n",
    "\n",
    "    df.columns = df.columns.str.strip()\n",
    "    df.columns = df.columns.str.replace(' ', '_')\n",
    "\n",
    "    ###################################################################################\n",
    "\n",
    "    display(HTML(f\"\"\"\n",
    "    <strong>\n",
    "    <h2>droping empty columns</h2></strong>\n",
    "    \"\"\"))\n",
    "\n",
    "\n",
    "    for col in df : \n",
    "\n",
    "        dataType= df[col].dtype\n",
    "        nbFilled = df[col].notna().sum()\n",
    "        fillRate = 100*nbFilled / len(df[col])\n",
    "        uniqueVal = df[col].nunique()\n",
    "        uvRate = 100*uniqueVal /  len(df[col])\n",
    "        nullVal = df[col].isna().sum()\n",
    "        nullRate = 100*nullVal /  len(df[col])\n",
    "\n",
    "\n",
    "        if fillRate == 0 :\n",
    "            display(HTML(f\"\"\"<font color='red'>Droping empty column : {col} </font>\"\"\"))\n",
    "            df.drop([col], axis=1,inplace=True)\n",
    "            #desc[col] = \"empty variable dropped\"\n",
    "            break\n",
    "\n",
    "            \n",
    "        newRow = {\"dataType\" : dataType,\n",
    "                \"nbFilled\":nbFilled,\n",
    "                \"fillRate%\":fillRate,\n",
    "                \"nbNull\":nullVal,\n",
    "                \"nullRate%\":nullRate,\n",
    "                \"uniqueVal\":uniqueVal,\n",
    "                \"uvRate%\":uvRate,\n",
    "                }\n",
    "\n",
    "\n",
    "        ##################################################\n",
    "        #check if column could be converted to num\n",
    "        \n",
    "        numVersion_series = pd.to_numeric(df[col],errors='coerce')\n",
    "        fillRateNum = 100*numVersion_series.notna().sum()/len(numVersion_series)\n",
    "        scoreNum = round(fillRateNum*100/fillRate)\n",
    "\n",
    "        if scoreNum > 80 :     \n",
    "\n",
    "            errors_dict[col] = { \"scoreNum\" : scoreNum ,\n",
    "                            \"lostData_series\" : df[col][numVersion_series.isna()] }\n",
    "            display(HTML(f\"\"\"<font color='blue'>\n",
    "if {col} were converted to numeric => fillrate {fillRateNum:.2f}  vs {fillRate:.2f}\n",
    "check errors_dict for further treatment.     \n",
    "\"\"\"))\n",
    "        nb_num += 1\n",
    "\n",
    "        #check if string\n",
    "        if pd.api.types.is_string_dtype(df[col] ) :\n",
    "            \n",
    "            nb_cat += 1\n",
    "\n",
    "            try:\n",
    "                df[col] = df[col].str.strip() #remove white spaces before and after \n",
    "\n",
    "            except Exception as e : \n",
    "                print(f\"\"\"\n",
    "    Error {e}\n",
    "    while stripping col : {col} as string           \n",
    "              \"\"\")\n",
    "\n",
    "\n",
    "            finally :\n",
    "                print(f\"{col} striped\")\n",
    "                \n",
    "\n",
    "                if \"last_modified_t\" in col :\n",
    "                    print(f\"\"\"\n",
    "_____________________________________________\n",
    "Checking Column : {col}\n",
    "*****************************\n",
    "antes : {df_raw[col]}\n",
    "****************************\n",
    "despues : {df[col]}\n",
    "_____________________________________________\n",
    "\n",
    "                    \"\"\")\n",
    "\n",
    "\n",
    "\n",
    "        else : \n",
    "            nb_num += 1\n",
    "\n",
    "        desc_dict[col] = newRow\n",
    "\n",
    "    ###################################################################################\n",
    "\n",
    "    display(HTML(f\"\"\"\n",
    "    <h2>Dropping empty rows </h2></strong>\n",
    "    \"\"\"))\n",
    "\n",
    "    ## After\n",
    "    df.dropna(how='all',inplace=True)\n",
    "    (nb_rowsAfter,nb_colsAfter) = df.shape\n",
    "\n",
    "    ###################################################################################\n",
    "\n",
    "    display(HTML(f\"\"\"\n",
    "    <h1>Sample Data AFTER Cleaning :</h1> \n",
    "    <h3>\n",
    "    <ul>\n",
    "    <li>number full duplicated rows : {nb_dup} - {dupRate:.2f}% ,{nb_rowsAfter} ({100*nb_rowsAfter/nb_rowsBefore:.0f}%) were not empty </li> \n",
    "    <li>{nb_rowsAfter} individuals - dropped <font color='red'>{100*(nb_rowsBefore-nb_rowsAfter)/nb_rowsBefore:.0f}% </font></li>\n",
    "    <li>{nb_colsAfter} variables - dropped <font color='red'>{100*(nb_colsBefore-nb_colsAfter)/nb_colsBefore:.0f}%</font>\n",
    "        <ul>\n",
    "             <li>{nb_num} numeric </li>\n",
    "             <li> {nb_cat} categorial</li> \n",
    "        </ul>\n",
    "    </li>\n",
    "    </h3> \n",
    "    \"\"\"))\n",
    "    display(df.head(3))\n",
    "\n",
    "    msno.matrix(df)\n",
    "    plt.title(\"MISSING VALUES\",fontdict={'color':  'darkblue',\n",
    "                                     'weight': 'normal',\n",
    "                                     'size': 32,\n",
    "                                     })\n",
    "    plt.show()\n",
    "\n",
    "    return df,desc_dict,errors_dict"
   ]
  },
  {
   "cell_type": "markdown",
   "metadata": {
    "heading_collapsed": true
   },
   "source": [
    "## screenDF (df description)"
   ]
  },
  {
   "cell_type": "code",
   "execution_count": null,
   "metadata": {
    "hidden": true
   },
   "outputs": [],
   "source": [
    "def screenDF(df1_desc,L=25,l=25) :\n",
    "    \n",
    "    \"\"\"displays metada data fillrate unique values and nullrate \n",
    "    \"\"\"\n",
    "\n",
    "    fig,(ax0,ax1,ax2) = plt.subplots(1,3,figsize=(L,l))\n",
    "\n",
    "    ax1.sharey=ax0\n",
    "    ax1.yaxis.set_visible(False)\n",
    "    ax2.sharey=ax0\n",
    "    ax2.yaxis.set_visible(False)\n",
    "\n",
    "    sns.barplot(data =df1_desc,x='fillRate%',y=df1_desc.index,ax=ax0)\n",
    "    sns.barplot(data =df1_desc,x='uvRate%',y=df1_desc.index,ax=ax1)\n",
    "    sns.barplot(data =df1_desc,x='nullRate%',y=df1_desc.index,ax=ax1)\n",
    "\n",
    "    ax0.axvline(x=10,color='red')\n",
    "    ax2.axvline(x=10,color='red')\n",
    "\n",
    "    ax0.set_title(\"fill rate %\")\n",
    "    ax0.yaxis.set_label(\"variables\")\n",
    "    ax1.set_title(\"unuqiue val rate %\")\n",
    "    ax2.set_title(\"null rate %\")\n",
    "\n",
    "    plt.plot()"
   ]
  },
  {
   "cell_type": "code",
   "execution_count": null,
   "metadata": {
    "hidden": true
   },
   "outputs": [],
   "source": []
  },
  {
   "cell_type": "code",
   "execution_count": null,
   "metadata": {
    "hidden": true
   },
   "outputs": [],
   "source": []
  },
  {
   "cell_type": "code",
   "execution_count": null,
   "metadata": {
    "hidden": true
   },
   "outputs": [],
   "source": []
  },
  {
   "cell_type": "code",
   "execution_count": null,
   "metadata": {
    "hidden": true
   },
   "outputs": [],
   "source": []
  },
  {
   "cell_type": "markdown",
   "metadata": {
    "id": "tWyAmZpc4978"
   },
   "source": [
    "# Load data and first cleaning"
   ]
  },
  {
   "cell_type": "markdown",
   "metadata": {},
   "source": [
    "## Load"
   ]
  },
  {
   "cell_type": "code",
   "execution_count": null,
   "metadata": {},
   "outputs": [],
   "source": [
    "%%script bash\n",
    "\n",
    "function getdata () {\n",
    "    wget https://s3-eu-west-1.amazonaws.com/static.oc-static.com/prod/courses/files/parcours-data-scientist/P2/fr.openfoodfacts.org.products.csv.zip\n",
    "    mkdir data\n",
    "    unzip -d data fr.openfoodfacts.org.products.csv.zip\n",
    "    ls data \n",
    "    echo ------------------------------------\n",
    "    wc -l data/fr.openfoodfacts.org.products.csv\n",
    "    head data/fr.openfoodfacts.org.products.csv\n",
    "    tail data/fr.openfoodfacts.org.products.csv\n",
    "    \n",
    "}\n",
    "\n",
    "\n",
    "[[ -f data/fr.openfoodfacts.org.products.csv ]] && echo data already downloaded || getdata"
   ]
  },
  {
   "cell_type": "code",
   "execution_count": 12,
   "metadata": {
    "colab": {
     "base_uri": "https://localhost:8080/"
    },
    "executionInfo": {
     "elapsed": 12533,
     "status": "ok",
     "timestamp": 1648138207725,
     "user": {
      "displayName": "zakaria rafa",
      "photoUrl": "https://lh3.googleusercontent.com/a-/AOh14Gh9p0ybZ-LAWwdcp8mrFKY7mObMQQ4XhjxqEzwaUA=s64",
      "userId": "03594001358715993439"
     },
     "user_tz": -60
    },
    "id": "L4KQDdjcPQS4",
    "outputId": "9dc6bc91-4e57-4166-c649-3610f1765d86"
   },
   "outputs": [
    {
     "name": "stderr",
     "output_type": "stream",
     "text": [
      "/home/zak/anaconda3/lib/python3.9/site-packages/IPython/core/interactiveshell.py:3444: DtypeWarning: Columns (0,3,5,19,20,24,25,26,27,28,35,36,37,38,39,48) have mixed types.Specify dtype option on import or set low_memory=False.\n",
      "  exec(code_obj, self.user_global_ns, self.user_ns)\n"
     ]
    },
    {
     "data": {
      "application/vnd.jupyter.widget-view+json": {
       "model_id": "c453ce9aea9a4083b22d89888ce5d2fd",
       "version_major": 2,
       "version_minor": 0
      },
      "text/plain": [
       "HTML(value='Data loaded in dataframe')"
      ]
     },
     "metadata": {},
     "output_type": "display_data"
    },
    {
     "name": "stderr",
     "output_type": "stream",
     "text": [
      "WARNING:itables.downsample:showing 3x20 of 3x162 as maxColumns=20. See https://mwouts.github.io/itables/downsampling.html\n"
     ]
    },
    {
     "data": {
      "text/html": [
       "<table id=\"e5b13852-4d32-4c6d-95af-e08224d9938c\" class=\"display\"style=\"max-width:100%\"><thead>\n",
       "    <tr style=\"text-align: right;\">\n",
       "      <th></th>\n",
       "      <th>code</th>\n",
       "      <th>url</th>\n",
       "      <th>creator</th>\n",
       "      <th>created_t</th>\n",
       "      <th>created_datetime</th>\n",
       "      <th>last_modified_t</th>\n",
       "      <th>last_modified_datetime</th>\n",
       "      <th>product_name</th>\n",
       "      <th>generic_name</th>\n",
       "      <th>quantity</th>\n",
       "      <th>ph_100g</th>\n",
       "      <th>fruits-vegetables-nuts_100g</th>\n",
       "      <th>collagen-meat-protein-ratio_100g</th>\n",
       "      <th>cocoa_100g</th>\n",
       "      <th>chlorophyl_100g</th>\n",
       "      <th>carbon-footprint_100g</th>\n",
       "      <th>nutrition-score-fr_100g</th>\n",
       "      <th>nutrition-score-uk_100g</th>\n",
       "      <th>glycemic-index_100g</th>\n",
       "      <th>water-hardness_100g</th>\n",
       "    </tr>\n",
       "  </thead><tbody><tr><td>Loading... (need <a href=https://mwouts.github.io/itables/troubleshooting.html>help</a>?)</td></tr></tbody></table>\n",
       "<link rel=\"stylesheet\" type=\"text/css\" href=\"https://cdn.datatables.net/1.11.3/css/jquery.dataTables.min.css\">\n",
       "<style> table td {\n",
       "    text-overflow: ellipsis;\n",
       "    overflow: hidden;\n",
       "} </style>\n",
       "<style> table th {\n",
       "    text-overflow: ellipsis;\n",
       "    overflow: hidden;\n",
       "} </style>\n",
       "<script type=\"module\">\n",
       "    // Define the table data\n",
       "    const data = [[44204, \"41318020304\", \"http://world-fr.openfoodfacts.org/produit/0041318020304/classic-cut-green-beans-schnucks\", \"usda-ndb-import\", \"1489060907\", \"2017-03-09T12:01:47Z\", \"1489060907\", \"2017-03-09T12:01:47Z\", \"Classic Cut Green Beans\", \"nan\", \"nan\", NaN, NaN, NaN, NaN, NaN, NaN, NaN, NaN, NaN, NaN], [228458, \"3364699325613\", \"http://world-fr.openfoodfacts.org/produit/3364699325613/concombre-seche\", \"teolemon\", \"1388849679\", \"2014-01-04T15:34:39Z\", \"1455394450\", \"2016-02-13T20:14:10Z\", \"Concombre seche\", \"nan\", \"100 g\", NaN, NaN, NaN, NaN, NaN, NaN, NaN, NaN, NaN, NaN], [114160, \"0257776008949\", \"http://world-fr.openfoodfacts.org/produit/0257776008949\", \"tacinte\", \"1472907037\", \"2016-09-03T12:50:37Z\", \"1472907093\", \"2016-09-03T12:51:33Z\", \"nan\", \"nan\", \"nan\", NaN, NaN, NaN, NaN, NaN, NaN, NaN, NaN, NaN, NaN]];\n",
       "\n",
       "    if (typeof require === 'undefined') {\n",
       "        // TODO: This should become the default (use a simple import)\n",
       "        // when the ESM version works independently of whether\n",
       "        // require.js is there or not, see\n",
       "        // https://datatables.net/forums/discussion/69066/esm-es6-module-support?\n",
       "        const {default: $} = await import(\"https://esm.sh/jquery@3.5.0\");\n",
       "        const {default: initDataTables} = await import(\"https://esm.sh/datatables.net@1.11.3?deps=jquery@3.5.0\");\n",
       "\n",
       "        initDataTables();\n",
       "\n",
       "        // Define the dt_args\n",
       "        let dt_args = {\"paging\": false};\n",
       "        dt_args[\"data\"] = data;\n",
       "\n",
       "        // Display the table\n",
       "        $(document).ready(function () {\n",
       "            $('#e5b13852-4d32-4c6d-95af-e08224d9938c').DataTable(dt_args);\n",
       "        });\n",
       "    } else {\n",
       "        require([\"jquery\", \"datatables\"], ($, datatables) => {\n",
       "                // Define the dt_args\n",
       "                let dt_args = {\"paging\": false};\n",
       "                dt_args[\"data\"] = data;\n",
       "\n",
       "                // Display the table\n",
       "                $(document).ready(function () {\n",
       "                    $('#e5b13852-4d32-4c6d-95af-e08224d9938c').DataTable(dt_args);\n",
       "                });\n",
       "            }\n",
       "        )\n",
       "    }\n",
       "</script>\n"
      ],
      "text/plain": [
       "                 code                                                url  \\\n",
       "44204     41318020304  http://world-fr.openfoodfacts.org/produit/0041...   \n",
       "228458  3364699325613  http://world-fr.openfoodfacts.org/produit/3364...   \n",
       "114160  0257776008949  http://world-fr.openfoodfacts.org/produit/0257...   \n",
       "\n",
       "                creator   created_t      created_datetime last_modified_t  \\\n",
       "44204   usda-ndb-import  1489060907  2017-03-09T12:01:47Z      1489060907   \n",
       "228458         teolemon  1388849679  2014-01-04T15:34:39Z      1455394450   \n",
       "114160          tacinte  1472907037  2016-09-03T12:50:37Z      1472907093   \n",
       "\n",
       "       last_modified_datetime             product_name generic_name quantity  \\\n",
       "44204    2017-03-09T12:01:47Z  Classic Cut Green Beans          NaN      NaN   \n",
       "228458   2016-02-13T20:14:10Z          Concombre seche          NaN    100 g   \n",
       "114160   2016-09-03T12:51:33Z                      NaN          NaN      NaN   \n",
       "\n",
       "        ... ph_100g fruits-vegetables-nuts_100g  \\\n",
       "44204   ...     NaN                         NaN   \n",
       "228458  ...     NaN                         NaN   \n",
       "114160  ...     NaN                         NaN   \n",
       "\n",
       "       collagen-meat-protein-ratio_100g cocoa_100g chlorophyl_100g  \\\n",
       "44204                               NaN        NaN             NaN   \n",
       "228458                              NaN        NaN             NaN   \n",
       "114160                              NaN        NaN             NaN   \n",
       "\n",
       "       carbon-footprint_100g nutrition-score-fr_100g nutrition-score-uk_100g  \\\n",
       "44204                    NaN                     NaN                     NaN   \n",
       "228458                   NaN                     NaN                     NaN   \n",
       "114160                   NaN                     NaN                     NaN   \n",
       "\n",
       "       glycemic-index_100g water-hardness_100g  \n",
       "44204                  NaN                 NaN  \n",
       "228458                 NaN                 NaN  \n",
       "114160                 NaN                 NaN  \n",
       "\n",
       "[3 rows x 162 columns]"
      ]
     },
     "execution_count": 12,
     "metadata": {},
     "output_type": "execute_result"
    }
   ],
   "source": [
    "filename = \"data/fr.openfoodfacts.org.products.csv\"\n",
    "\n",
    "df0_raw = pd.read_csv(filename,sep='\\t')\n",
    "display(HTML(\"Data loaded in dataframe\"))\n",
    "df0_raw.sample(3)"
   ]
  },
  {
   "cell_type": "code",
   "execution_count": null,
   "metadata": {},
   "outputs": [],
   "source": [
    "df0= df0_raw.copy()"
   ]
  },
  {
   "cell_type": "code",
   "execution_count": null,
   "metadata": {},
   "outputs": [],
   "source": [
    "show(df0)"
   ]
  },
  {
   "cell_type": "markdown",
   "metadata": {},
   "source": [
    "## Infering dtypes :\n",
    "Auto (pandas) did not provide any suggestion.\n",
    "\n",
    "Man dtypes infer of non numerical variables rises a number of functional issues :\n",
    "- how to handle foreign policies\n",
    "- are controvertial components traced and even tracable"
   ]
  },
  {
   "cell_type": "markdown",
   "metadata": {
    "heading_collapsed": true
   },
   "source": [
    "### Auto with infer_objects()\n",
    "No change suggested"
   ]
  },
  {
   "cell_type": "code",
   "execution_count": null,
   "metadata": {
    "hidden": true
   },
   "outputs": [],
   "source": [
    "before = df0.dtypes\n",
    "before.name=\"dtype_before\"\n",
    "\n",
    "df1 = df0.infer_objects()\n",
    "\n",
    "after = df1.dtypes\n",
    "after.name=\"dtype_after\"\n",
    "\n",
    "df2 = pd.merge(before,after,right_index=True, left_index=True)\n",
    "\n",
    "display(HTML(\"\"\"<h2>Auto infer types report : \"\"\",\n",
    "             layout=Layout(object_position='center',\n",
    "                           border='solid 1px black',\n",
    "                          )\n",
    "            )\n",
    "       )\n",
    "display(HTML(\"\"\"<h3>Changes : \"\"\"))\n",
    "display(df2[df2.dtype_after != df2.dtype_before])\n",
    "\n",
    "display(HTML(value='<h2>Before and after dtype auto infer',))\n",
    "left_output = Output()\n",
    "centerRight_output = Output()\n",
    "centerLeft_output = Output()\n",
    "right_output = Output()\n",
    "\n",
    "with left_output :\n",
    "    before.value_counts().plot.pie()\n",
    "    plt.show()\n",
    "    \n",
    "with centerLeft_output :\n",
    "    display(HTML(\"<== Before \"))\n",
    "    display(before.value_counts())\n",
    "    \n",
    "with centerRight_output :  \n",
    "    display(HTML('<div text-align: right >After  ==> '))\n",
    "    display(after.value_counts())\n",
    "    \n",
    "with right_output :\n",
    "    after.value_counts().plot.pie()\n",
    "    plt.show()\n",
    "\n",
    "hbox = HBox([left_output,centerLeft_output,centerRight_output,right_output],\n",
    "          height=\"100%\", \n",
    "          width=\"100%\")\n",
    "display(hbox)"
   ]
  },
  {
   "cell_type": "code",
   "execution_count": null,
   "metadata": {
    "hidden": true
   },
   "outputs": [],
   "source": [
    "del df1,df2,after"
   ]
  },
  {
   "cell_type": "markdown",
   "metadata": {},
   "source": [
    "### Manual with select_dtypes\n",
    "\n",
    "\n",
    "<div class =\"alert alert-block alert-danger\">\n",
    "\"villecomtal-sur-arros-gers-france\" and \"saint-just-chaleyssin-isere-france\" could be unreliable sources at the expence of some dairy products.\n",
    "</div>\n",
    "\n"
   ]
  },
  {
   "cell_type": "markdown",
   "metadata": {},
   "source": [
    "#### first round : non numerical variables\n",
    "\n",
    "Convertion scheme 1 :\n",
    "\n",
    "- <font color=\"green\"><b>To numeric :\n",
    "    - code would be a numerical id \n",
    "    \n",
    "- <font color=\"blue\"><b>To string :\n",
    "    - product_name and url should be strings and could be coupled with code for stronger id provided they are consistantly observed\n",
    "    - main_category\t and main_category_fr\n",
    "    - additives_tags,additives_fr, ingredients_from_palm_oil_tags, ingredients_that_may_be_from_palm_oil_tags\t\n",
    "    - nutrition_grade_fr is the nutriscore\n",
    "\n",
    "- <font color=\"orange\"><b>To datetime :\n",
    "    - created_datetime, last_modified_datetime are formated like %y/%m/%dT%H:%M:%SZ (2017-03-09T20:49:44Z)\n",
    "    - from timestamps : created_t, last_modified_t, \n",
    "    \n",
    "- <font color=\"red\"><b>To drop :\n",
    "    - a priori not relevant : image_url, image_small_url, states_fr, states_tags\n",
    "    - a posteriori not relevant : \"created_t\", \"last_modified_t\",\"created_datetime\",\"last_modified_datetime\""
   ]
  },
  {
   "cell_type": "code",
   "execution_count": null,
   "metadata": {
    "scrolled": true
   },
   "outputs": [],
   "source": [
    "df_notNum = df0.select_dtypes(exclude='float')\n",
    "display(HTML(f\"\"\"<h2>Number of non numerical values : {df_notNum.shape[1]}\n",
    "<h3>Samples :\"\"\"))\n",
    "display(HTML(\n",
    "    df_notNum.sample(3).transpose().to_html()\n",
    "))"
   ]
  },
  {
   "cell_type": "code",
   "execution_count": null,
   "metadata": {},
   "outputs": [],
   "source": [
    "lost = pd.DataFrame()"
   ]
  },
  {
   "cell_type": "markdown",
   "metadata": {
    "heading_collapsed": true
   },
   "source": [
    "##### convertions to num"
   ]
  },
  {
   "cell_type": "code",
   "execution_count": null,
   "metadata": {
    "hidden": true
   },
   "outputs": [],
   "source": [
    "col = \"code\" \n",
    "target_type = \"float\"\n",
    "\n",
    "lost1 = convert_col(df0,col,target_type)\n",
    "lost = lost.append(lost1)"
   ]
  },
  {
   "cell_type": "code",
   "execution_count": null,
   "metadata": {
    "hidden": true,
    "scrolled": false
   },
   "outputs": [],
   "source": [
    "describeNumCol(df0,col) # not relevant for ids"
   ]
  },
  {
   "cell_type": "markdown",
   "metadata": {
    "heading_collapsed": true
   },
   "source": [
    "##### to datetime"
   ]
  },
  {
   "cell_type": "code",
   "execution_count": null,
   "metadata": {
    "hidden": true,
    "scrolled": false
   },
   "outputs": [],
   "source": [
    "target_type = \"datetime\"\n",
    "\n",
    "for col in [\"created_t\", \"last_modified_t\",\"created_datetime\",\"last_modified_datetime\"] :\n",
    "    lostn = convert_col(df0,col,target_type) \n",
    "    lost = lost.append(lostn)\n",
    "    "
   ]
  },
  {
   "cell_type": "code",
   "execution_count": null,
   "metadata": {
    "hidden": true,
    "scrolled": false
   },
   "outputs": [],
   "source": [
    "for col in [\"created_t\", \"last_modified_t\",\"created_datetime\",\"last_modified_datetime\"] :\n",
    "    displayDate(df0,col)"
   ]
  },
  {
   "cell_type": "markdown",
   "metadata": {
    "hidden": true
   },
   "source": [
    "*About matplotlib locator : https://matplotlib.org/3.1.1/gallery/ticks_and_spines/tick-locators.html*\n",
    "\n",
    "<div class=\"alert alert-block alert-danger\"> Considering timestamps : all data must have been uploaded in bulk around march 09 2017.\n",
    "those variables will not be relevant for further analysis and will be dropped.\n",
    "</div>"
   ]
  },
  {
   "cell_type": "markdown",
   "metadata": {
    "hidden": true
   },
   "source": [
    "###### About lost info"
   ]
  },
  {
   "cell_type": "code",
   "execution_count": null,
   "metadata": {
    "hidden": true
   },
   "outputs": [],
   "source": [
    "lost.drop_duplicates(keep=\"last\",inplace=True)\n",
    "#unreliable sources :\n",
    "lost.creator.value_counts()"
   ]
  },
  {
   "cell_type": "code",
   "execution_count": null,
   "metadata": {
    "hidden": true
   },
   "outputs": [],
   "source": [
    "#product out of scope \n",
    "outofscope = df0.iloc[lost.creator.index]\n",
    "out = outofscope.generic_name.str.strip().value_counts()\n",
    "out.index = out.index.str[:30]\n",
    "out"
   ]
  },
  {
   "cell_type": "markdown",
   "metadata": {},
   "source": [
    "#### second round : remaining non numerical variables  "
   ]
  },
  {
   "cell_type": "code",
   "execution_count": null,
   "metadata": {},
   "outputs": [],
   "source": [
    "df0.drop(['image_url', 'image_small_url', 'states_fr', 'states_tags'], axis=1,inplace=True)\n",
    "df0.drop([\"created_t\", \"last_modified_t\",\"created_datetime\",\"last_modified_datetime\"],axis=1,inplace=True)"
   ]
  },
  {
   "cell_type": "code",
   "execution_count": null,
   "metadata": {},
   "outputs": [],
   "source": [
    "df_notNum = df0.select_dtypes(exclude=['float','datetime64[ns]'])\n",
    "display(HTML(f\"\"\"<h2>Number of non numerical values : {df_notNum.shape[1]}\n",
    "<h3>Samples :\"\"\"))\n",
    "display(HTML(\n",
    "    df_notNum.sample(3).transpose().to_html()\n",
    "))"
   ]
  },
  {
   "cell_type": "markdown",
   "metadata": {
    "heading_collapsed": true
   },
   "source": [
    "##### quantity\n",
    "to be continued"
   ]
  },
  {
   "cell_type": "code",
   "execution_count": null,
   "metadata": {
    "hidden": true
   },
   "outputs": [],
   "source": [
    "#test with quantity\n",
    "df0.quantity.value_counts()"
   ]
  },
  {
   "cell_type": "code",
   "execution_count": null,
   "metadata": {
    "hidden": true
   },
   "outputs": [],
   "source": []
  },
  {
   "cell_type": "code",
   "execution_count": null,
   "metadata": {
    "hidden": true
   },
   "outputs": [],
   "source": [
    "#remove kg \n",
    "test = df0[df0.quantity.str.contains(\"g\").fillna(False)].quantity\n",
    "\n",
    "#review possible loss of information :\n",
    "testdf = df0.iloc[test.index][[\"code\",\"creator\",\"quantity\"]]\n",
    "focusdf = testdf.quantity.str.split(\"g\",expand=True)\n",
    "\n",
    "focusdf[\n",
    "    focusdf[2].notna() |\n",
    "    focusdf[11].notna() \n",
    "]"
   ]
  },
  {
   "cell_type": "raw",
   "metadata": {
    "hidden": true
   },
   "source": [
    "#let #s apply the rules \n",
    "split on g keep left and strip\n",
    "if k : replace "
   ]
  },
  {
   "cell_type": "markdown",
   "metadata": {},
   "source": [
    "##### allergens"
   ]
  },
  {
   "cell_type": "code",
   "execution_count": 2,
   "metadata": {},
   "outputs": [
    {
     "ename": "NameError",
     "evalue": "name 'df0' is not defined",
     "output_type": "error",
     "traceback": [
      "\u001b[0;31m---------------------------------------------------------------------------\u001b[0m",
      "\u001b[0;31mNameError\u001b[0m                                 Traceback (most recent call last)",
      "\u001b[0;32m/tmp/ipykernel_15388/1225164898.py\u001b[0m in \u001b[0;36m<module>\u001b[0;34m\u001b[0m\n\u001b[0;32m----> 1\u001b[0;31m \u001b[0mdf0\u001b[0m\u001b[0;34m[\u001b[0m\u001b[0;34m\"allergens\"\u001b[0m\u001b[0;34m]\u001b[0m \u001b[0;34m=\u001b[0m \u001b[0mdf0\u001b[0m\u001b[0;34m[\u001b[0m\u001b[0;34m\"allergens\"\u001b[0m\u001b[0;34m]\u001b[0m\u001b[0;34m.\u001b[0m\u001b[0mfillna\u001b[0m\u001b[0;34m(\u001b[0m\u001b[0;34m\"None\"\u001b[0m\u001b[0;34m)\u001b[0m\u001b[0;34m\u001b[0m\u001b[0;34m\u001b[0m\u001b[0m\n\u001b[0m",
      "\u001b[0;31mNameError\u001b[0m: name 'df0' is not defined"
     ]
    }
   ],
   "source": [
    "df0[\"allergens\"] = df0[\"allergens\"].fillna(\"None\")"
   ]
  },
  {
   "cell_type": "code",
   "execution_count": null,
   "metadata": {},
   "outputs": [],
   "source": [
    "df0[\"allergens\"].value_counts()"
   ]
  },
  {
   "cell_type": "code",
   "execution_count": null,
   "metadata": {},
   "outputs": [],
   "source": [
    "describeCatCol(df0,\"allergens\",cutoff=0,l=1,L=6)"
   ]
  },
  {
   "cell_type": "markdown",
   "metadata": {
    "heading_collapsed": true
   },
   "source": [
    "##### product_name\n",
    "weird names : 乐吧泡菜味薯片\n",
    "\n",
    "<div class=\"alert alert-block alert-danger\">About China and US policies"
   ]
  },
  {
   "cell_type": "code",
   "execution_count": null,
   "metadata": {
    "hidden": true
   },
   "outputs": [],
   "source": [
    "df0[df0.product_name == \"乐吧泡菜味薯片\"].url"
   ]
  },
  {
   "cell_type": "markdown",
   "metadata": {
    "heading_collapsed": true
   },
   "source": [
    "##### controversial components\n",
    " <a href=\"https://en.wikipedia.org/wiki/Monosodium_glutamate\">MSG"
   ]
  },
  {
   "cell_type": "code",
   "execution_count": null,
   "metadata": {
    "hidden": true
   },
   "outputs": [],
   "source": [
    "MSG = [\"Monosodium glutamate\", \"sodium glutamate\",\n",
    "\"Sodium 2-aminopentanedioate\",\n",
    "\"Glutamic acid\", \"monosodium salt\", \"monohydrateL-Glutamic acid\", \"monosodium salt\", \"monohydrate\"\n",
    "\"L-Monosodium\", \"glutamate\", \"monohydrate\",\n",
    "\"Monosodium L-glutamate monohydrate\",\"MSG monohydrate\",\"Sodium glutamate monohydrate UNII-W81N5U6R6U\"\n",
    ",\"Flavour enhancer\" ,\"E621\"]"
   ]
  },
  {
   "cell_type": "code",
   "execution_count": null,
   "metadata": {
    "hidden": true
   },
   "outputs": [],
   "source": [
    "df0.columns.isin(MSG)"
   ]
  },
  {
   "cell_type": "code",
   "execution_count": null,
   "metadata": {
    "hidden": true
   },
   "outputs": [],
   "source": []
  },
  {
   "cell_type": "markdown",
   "metadata": {},
   "source": [
    "## duplicated ids"
   ]
  },
  {
   "cell_type": "code",
   "execution_count": null,
   "metadata": {},
   "outputs": [],
   "source": [
    "ident = \"code\""
   ]
  },
  {
   "cell_type": "markdown",
   "metadata": {
    "heading_collapsed": true
   },
   "source": [
    "### methode A : value_count\n",
    "found 134 duplicated rows"
   ]
  },
  {
   "cell_type": "code",
   "execution_count": null,
   "metadata": {
    "hidden": true,
    "scrolled": false
   },
   "outputs": [],
   "source": [
    "# duplicates\n",
    "dup = df0[ident].value_counts()\n",
    "dup.name=\"nbdup\"\n",
    "dup = dup[dup > 1]\n",
    "\n",
    "duplicatedRows = df0[df0.code.isin(dup.index.tolist())].sort_values(\"code\")\n",
    "\n",
    "naRows = df0[df0.code.isna()]\n",
    "\n",
    "\n",
    "display(HTML(f\"\"\" Considering variable {ident} : {len(dup.index.tolist())+len(naRows)} duplicates\n",
    "found {len(dup.index.tolist())} duplicated id and {len(naRows)} nan \n",
    "\"\"\"))\n",
    "\n",
    "display(HTML(\"Sample na Rows :\"))\n",
    "if len(naRows) >0 :\n",
    "    display(naRows.sample(5))\n",
    "else : display(\"**************\")\n",
    "\n",
    "display(HTML(\"Sample duplicated Rows :\"))\n",
    "if  len(dup.index.tolist()) >0 :\n",
    "    display(duplicatedRows.sample(5))\n",
    "else : display(\"**************\")\n"
   ]
  },
  {
   "cell_type": "markdown",
   "metadata": {},
   "source": [
    "### methode b : duplicated\n",
    "found 133"
   ]
  },
  {
   "cell_type": "code",
   "execution_count": null,
   "metadata": {},
   "outputs": [],
   "source": [
    "dupB = df0[df0[\"code\"].duplicated()].sort_values(\"code\")\n",
    "\n",
    "display(HTML(f\"\"\"found {len(dupB)} duplicated ids\"\"\"))\n",
    "\n",
    "duplicatedRows = df0[df0.code.isin(dupB.code.tolist())].sort_values(\"code\")\n",
    "display(duplicatedRows)"
   ]
  },
  {
   "cell_type": "markdown",
   "metadata": {
    "heading_collapsed": true
   },
   "source": [
    "### deduplicated data :\n",
    "remove nan ids as no possible data recovery\n",
    "keep only one version of the duplicates \n",
    "<div class=\"alert alert-block alert-danger\"> \n",
    "(to do : choose the best options considering either :\n",
    "    \n",
    "    - fill rate or \n",
    "    - values consistancy or\n",
    "    - last value considering the timestamps"
   ]
  },
  {
   "cell_type": "code",
   "execution_count": null,
   "metadata": {
    "hidden": true
   },
   "outputs": [],
   "source": [
    "#remove na \n",
    "df0.dropna(subset=[\"code\"],inplace=True)\n",
    "df0.drop_duplicates(subset=[\"code\"],keep=\"last\",inplace=True)\n"
   ]
  },
  {
   "cell_type": "markdown",
   "metadata": {
    "id": "m1S9ovkhVrQH"
   },
   "source": [
    "### Function describeNumCol"
   ]
  },
  {
   "cell_type": "code",
   "execution_count": null,
   "metadata": {
    "executionInfo": {
     "elapsed": 797,
     "status": "ok",
     "timestamp": 1648061879172,
     "user": {
      "displayName": "zakaria rafa",
      "photoUrl": "https://lh3.googleusercontent.com/a-/AOh14Gh9p0ybZ-LAWwdcp8mrFKY7mObMQQ4XhjxqEzwaUA=s64",
      "userId": "03594001358715993439"
     },
     "user_tz": -60
    },
    "id": "Wlt3WeWMmx11"
   },
   "outputs": [],
   "source": [
    "def describeNumCol (df,colName) :\n",
    "  \"\"\"\n",
    "  describe a numeric column with basic stats and graphics\n",
    "  args : df,colName \n",
    "  \"\"\"\n",
    "\n",
    "  dist_series = df[colName].value_counts()\n",
    "  n = len(df[colName])\n",
    "\n",
    "  #calculate sample kurtosis\n",
    "  gamma1 = kurtosis(df[colName], bias=False)\n",
    "  #The kurtosis of a normal distribution is 3.\n",
    "  #kurtosis less than 3 : playkurtic, which means it tends to produce fewer and less extreme outliers than the normal distribution.\n",
    "  #kurtosis greater than 3, : leptokurtic, which means it tends to produce more outliers than the normal distribution.\n",
    "  if gamma1 <2.9 : \n",
    "    interp_gamma1 =  \"playkurtic (concentrated)\"\n",
    "  elif gamma1 >3.1 :\n",
    "    interp_gamma1 =  \"leptokurtic (many outliers)\"\n",
    "  else : \n",
    "    interp_gamma1 = \"distribution is normal\"\n",
    "  \n",
    "  #calculate sample skewness\n",
    "  gamma2 = skew(df[colName], bias=False)\n",
    "  #A negative skew = the tail is on the left side of the distribution, which extends towards more negative values.\n",
    "  #A positive skew = the tail is on the right side of the distribution, which extends towards more positive values.\n",
    "  #A value of zero = there is no skewness in the distribution at all, meaning the distribution is perfectly symmetrical.\n",
    "  if gamma2 <-0.2 : \n",
    "    interp_gamma2 =  \"tail is on the left side of the distribution\"\n",
    "  elif gamma2 >0.2 :\n",
    "    interp_gamma2 =  \"tail is on the right side of the distribution\"\n",
    "  else : \n",
    "    interp_gamma2 = \"distribution is symmetrical\"\n",
    "\n",
    "\n",
    "  #calculate Lorentz and Gini  \n",
    "  lorenz = np.cumsum(np.sort(df[colName])) / df[colName].sum()\n",
    "  lorenz = np.append([0],lorenz) # La courbe de Lorenz commence à 0\n",
    "  AUC = (lorenz.sum() -lorenz[-1]/2 -lorenz[0]/2)/n # Surface sous la courbe de Lorenz. Le premier segment (lorenz[0]) est à moitié en dessous de 0, on le coupe donc en 2, on fait de même pour le dernier segment lorenz[-1] qui est à moitié au dessus de 1.\n",
    "  S = 0.5 - AUC # surface entre la première bissectrice et le courbe de Lorenz\n",
    "  gini = 2*S\n",
    "  gini\n",
    "\n",
    "\n",
    "  #prepare outputs\n",
    "  graph = widgets.Output()\n",
    "  table = widgets.Output(layout=widgets.Layout(margin='0 50px 0 0'))\n",
    "  hLayout = widgets.HBox([table,graph])\n",
    "\n",
    "  #sempre fare la bella figura\n",
    "  fig,ax = plt.subplots(figsize=(20,15) )\n",
    "  ax.xaxis.set_visible(False)\n",
    "  ax.yaxis.set_visible(False)\n",
    "  plt.title(f\"Variable {colName}\",\n",
    "            fontdict={\n",
    "                'fontsize': 24,\n",
    "                'fontweight' : \"bold\" ,\n",
    "                'verticalalignment': 'baseline',\n",
    "                'horizontalalignment': 'center'},\n",
    "            pad =50,\n",
    "            )\n",
    "  \n",
    "  # grid specification\n",
    "  gs = fig.add_gridspec(3,2)\n",
    "  ax1 = fig.add_subplot(gs[0, 0])\n",
    "\n",
    "  ax2 = fig.add_subplot(gs[1, 0])\n",
    "  ax2.sharex = ax1\n",
    "\n",
    "  ax3 = fig.add_subplot(gs[0, 1])\n",
    "  ax3.sharey = ax1\n",
    "\n",
    "  ax4 = fig.add_subplot(gs[1, 1])\n",
    "\n",
    "  ax5 = fig.add_subplot(gs[2, 1])\n",
    "\n",
    "\n",
    "  # axe 1 ---------------------------------------------\n",
    "  ax1.bar(dist_series.index,dist_series, color='b')\n",
    "  ax1.set_title('Distribution of values')\n",
    "  ax1.set_ylabel(\"Nb observations\")\n",
    "  ax1.xaxis.set_tick_params(rotation=45)\n",
    "\n",
    "  # axe 2 ---------------------------------------------\n",
    "  sns.histplot(x=dist_series.index, kde=True, stat='density',ax=ax2 )\n",
    "  ax2.xaxis.set_visible(False)\n",
    "  ax2.set_title('Density KDE')\n",
    "  ax2.set_ylabel(colName)\n",
    "  ax2.invert_yaxis()\n",
    "\n",
    "  # axe 3 ---------------------------------------------\n",
    "  sns.histplot(y=dist_series, kde=True, stat='density',ax=ax3 )\n",
    "  ax3.xaxis.set_visible(False)\n",
    "  ax3.set_title('Density KDE')\n",
    "  ax3.set_ylabel(\"Nb Observation\")\n",
    "\n",
    "  # axe 4 ---------------------------------------------\n",
    "  sns.boxplot(x=df[colName], ax =ax4,notch=True,color=(1,0,1,0.5))\n",
    "  ax4.set_xlabel(colName)\n",
    "  ax4.set_title('Distribution of values Boite a mous')\n",
    " \n",
    "\n",
    "  # axe 5 -----------------------------------------------\n",
    "\n",
    "  xaxis = np.linspace(0-1/n,1+1/n,len(lorenz)) #one segment of len n for each individual + 1 additional segment at the origine 0. \n",
    "  #first segment starts at 0-1/n, las ends at 1+1/n.\n",
    "  ax5.plot(xaxis,lorenz,drawstyle='steps-post')\n",
    "  ax5.plot([0,1], [0,1]) #bisector\n",
    "  ax5.set_title('Lorentz distribution')\n",
    "\n",
    "\n",
    "\n",
    "  # display ---------------------------------------------\n",
    "\n",
    "  with graph :\n",
    "    graph.clear_output()\n",
    "    plt.show()\n",
    "  with table :\n",
    "    table.clear_output()\n",
    "    full_desc = df[[colName]].describe()\n",
    "    full_desc.loc[\"Unique values\"] = n \n",
    "    full_desc.loc[\"Missing values%\"] = f\"{100*df[colName].isna().sum()/len(df[colName]):.2f}\"\n",
    "    full_desc.loc[\"Kurtosis\"] = gamma1\n",
    "    full_desc.loc[\"Kurto desc\"] = interp_gamma1\n",
    "    full_desc.loc[\"Skew\"] = gamma2\n",
    "    full_desc.loc[\"Skew desc\"] = interp_gamma2\n",
    "    full_desc.loc[\"Gini\"] = gini\n",
    "\n",
    "    display(full_desc)\n",
    "\n",
    "\n",
    "  display(hLayout)"
   ]
  },
  {
   "cell_type": "code",
   "execution_count": null,
   "metadata": {},
   "outputs": [],
   "source": []
  },
  {
   "cell_type": "markdown",
   "metadata": {
    "heading_collapsed": true,
    "id": "sdWQ7wDh5JED"
   },
   "source": [
    "# Cleaning DF0 => DF1 => DF2"
   ]
  },
  {
   "cell_type": "code",
   "execution_count": null,
   "metadata": {
    "hidden": true
   },
   "outputs": [],
   "source": [
    "df1[\"last_modified_t\"].isna().sum(),df0[\"last_modified_t\"].isna().sum()"
   ]
  },
  {
   "cell_type": "code",
   "execution_count": null,
   "metadata": {
    "hidden": true
   },
   "outputs": [],
   "source": [
    "pd.api.types.is_numeric_dtype(df0[\"last_modified_t\"])"
   ]
  },
  {
   "cell_type": "code",
   "execution_count": null,
   "metadata": {
    "hidden": true
   },
   "outputs": [],
   "source": [
    "errors_dict"
   ]
  },
  {
   "cell_type": "code",
   "execution_count": null,
   "metadata": {
    "colab": {
     "base_uri": "https://localhost:8080/",
     "height": 1000,
     "referenced_widgets": [
      "8632737dea524a7a944c0a9dd39a2875",
      "83cb40a371a847d9b6174d0d4c0403f2",
      "920d6162a9f848e9b70bfa1e42fc9180",
      "6a2a94d0cf404adf94a6e13de9401979",
      "71b3bf62af394d6ea816621074a436ce",
      "844b65e04efb4cdc9905c8a5e7f60ae8",
      "fa34979195f9437d9f270514f8aa4999",
      "80eced473da243b693fd0bd712bea2d5",
      "5875b7a59e0f49daa85e9c64ed58d1dd",
      "3cfb48ee078e47f3b129138e00f63f3d",
      "1cadf2fd55454ddc950af6e9f095d16d",
      "a3bbabe0d78545f5b0941576df4259bd",
      "1216593f9f884a0b849a05579327b410",
      "72a7799b6e614605b1cc9f48bc3ae4e8",
      "b3c0908801044c4fb9d4632a1d05b214",
      "4f252f7fe1794be389cfec17baffc64b",
      "d73fc9b12f2e49b596961af136a7a00d",
      "89a082a08b4b448b8e3e2aaed794994a",
      "332766039c97464b94c129695482893e",
      "0bf75d8e6bbb4e4c914e767225ef4db6",
      "16c6586ee85c49f598c68813bddb54e8",
      "f96086f600c545cda93756efc9932550",
      "5b8b9d0991ec49fa8fcf61664d6c913a",
      "3a8a7f216497467a8eaf221e88caad49",
      "a87811fa71794eb69bf2567e380bd3fb",
      "a8291045b48044d2a56e03c6bfd590ff",
      "c223f73e35e74b899beb1fa636282679",
      "f4bbdebe52c1479ab3fc7faad96913c3",
      "587c117f1f7c4f7197fbda791ef43612",
      "4b3e285c44c74ad4a7c33aaabf66e42b",
      "b8a5a9498cb544c78119cace530a8ccd",
      "f8ab3242c7b5404c816c8732a83ea694",
      "3c273f7ba3b04a5fa51072b71c7b080a",
      "2885856afd954639acc8f4338be2ec23",
      "4b62c4223cc64cf58ae2ee217efce28a",
      "c641b90e60d046d9a2cb54e69e3ee701",
      "793a521e7d52460c9cdb1a6442739ff2",
      "0e035fc1162b483db0acdd27a451fe7f",
      "8875e6bbb38742d0a937b08d498869b1",
      "ce73eecb0ee1460595615cb8aa97b219",
      "06a8a90433a04aed9e98142609470258",
      "ba2c0eaac51a41bab315fa238696f846",
      "e3bb5186033c44088ba0938ed2460866",
      "5db599965b95479b8e85334d99f0004d",
      "a879533bf6844a2dac31dfa471234002",
      "2add3786e50444ecb57b72dd5d0f3ab1",
      "78a33e12a8d041c281b73bd94747a983",
      "1ef459bd62804a2483ef96054d2bc7ab",
      "11fb48b0ea274ba8a77a3c83941eaf39",
      "f1b28810f5584e7a858c14c616385a91",
      "0915e43fbfe24170aebd8fd880f772bd",
      "98a48f29db884a2ca5e370765a30e34f",
      "c19b0b8d4a1f4e0a9c1ff0fcc02e62ca",
      "791ac74225f442a69be01d4171dd2b58",
      "4a709244bd8547d1b540f728557010ea",
      "8312554d84664353a8e3465c4bff02de",
      "573f57a118fd4064a435219a77d9b625",
      "8d00511f908844f284942729d4377759",
      "51f0dc1cede14db3824d998afce2a36a",
      "98c8971481324136852931db95484051"
     ]
    },
    "executionInfo": {
     "elapsed": 35197,
     "status": "ok",
     "timestamp": 1648114771166,
     "user": {
      "displayName": "zakaria rafa",
      "photoUrl": "https://lh3.googleusercontent.com/a-/AOh14Gh9p0ybZ-LAWwdcp8mrFKY7mObMQQ4XhjxqEzwaUA=s64",
      "userId": "03594001358715993439"
     },
     "user_tz": -60
    },
    "hidden": true,
    "id": "MYY5ABr7ucDT",
    "outputId": "42746778-cf5c-4fa9-bcc2-ad97905954c4",
    "scrolled": true
   },
   "outputs": [],
   "source": [
    "df1,desc_dict,errors_dict = clean1(df0)"
   ]
  },
  {
   "cell_type": "code",
   "execution_count": null,
   "metadata": {
    "colab": {
     "base_uri": "https://localhost:8080/",
     "height": 1000
    },
    "executionInfo": {
     "elapsed": 4736,
     "status": "ok",
     "timestamp": 1648112781650,
     "user": {
      "displayName": "zakaria rafa",
      "photoUrl": "https://lh3.googleusercontent.com/a-/AOh14Gh9p0ybZ-LAWwdcp8mrFKY7mObMQQ4XhjxqEzwaUA=s64",
      "userId": "03594001358715993439"
     },
     "user_tz": -60
    },
    "hidden": true,
    "id": "lpLxerEiv7VJ",
    "outputId": "89fdcff3-f776-4af7-a8b1-8b17f6ac459c",
    "scrolled": true
   },
   "outputs": [],
   "source": [
    "df1_desc = pd.DataFrame(desc_dict).transpose().sort_values(by=\"fillRate%\",ascending=False)\n",
    "df1_desc\n",
    "\n",
    "screenDF(df1_desc)"
   ]
  },
  {
   "cell_type": "code",
   "execution_count": null,
   "metadata": {
    "colab": {
     "base_uri": "https://localhost:8080/",
     "height": 423
    },
    "executionInfo": {
     "elapsed": 279,
     "status": "ok",
     "timestamp": 1648114781137,
     "user": {
      "displayName": "zakaria rafa",
      "photoUrl": "https://lh3.googleusercontent.com/a-/AOh14Gh9p0ybZ-LAWwdcp8mrFKY7mObMQQ4XhjxqEzwaUA=s64",
      "userId": "03594001358715993439"
     },
     "user_tz": -60
    },
    "hidden": true,
    "id": "nAicx3TPLZfR",
    "outputId": "0f16ceb7-0203-430b-b729-98ddbb273b1e",
    "scrolled": true
   },
   "outputs": [],
   "source": [
    "df1_desc[[\"fillRate%\",\"nullRate%\",\"uvRate%\"]]"
   ]
  },
  {
   "cell_type": "code",
   "execution_count": null,
   "metadata": {
    "hidden": true
   },
   "outputs": [],
   "source": []
  },
  {
   "cell_type": "markdown",
   "metadata": {
    "hidden": true,
    "id": "qu_ZNzgcsWd5"
   },
   "source": [
    "## timestamps : last_modified_t"
   ]
  },
  {
   "cell_type": "code",
   "execution_count": null,
   "metadata": {
    "colab": {
     "base_uri": "https://localhost:8080/",
     "height": 982
    },
    "executionInfo": {
     "elapsed": 1376,
     "status": "ok",
     "timestamp": 1648138209093,
     "user": {
      "displayName": "zakaria rafa",
      "photoUrl": "https://lh3.googleusercontent.com/a-/AOh14Gh9p0ybZ-LAWwdcp8mrFKY7mObMQQ4XhjxqEzwaUA=s64",
      "userId": "03594001358715993439"
     },
     "user_tz": -60
    },
    "hidden": true,
    "id": "E5Fu-KCyhWBQ",
    "outputId": "b006e8d0-c081-4b1b-b90d-a71c55b60874"
   },
   "outputs": [],
   "source": [
    "#timestamps and datetimes \n",
    "df0[\"last_modified_t_isdig\"] =  pd.to_numeric( df0[\"last_modified_t\"],errors='coerce'   )\n",
    "\n",
    "#lost data if timestamp to numeric\n",
    "imparedData = df0 [df0[\"last_modified_t_isdig\"].isna() ].dropna(axis=1)\n",
    "display(imparedData.sample(5) )\n",
    "display(imparedData.describe() )\n"
   ]
  },
  {
   "cell_type": "code",
   "execution_count": null,
   "metadata": {
    "colab": {
     "base_uri": "https://localhost:8080/",
     "height": 70
    },
    "executionInfo": {
     "elapsed": 312,
     "status": "ok",
     "timestamp": 1648138441485,
     "user": {
      "displayName": "zakaria rafa",
      "photoUrl": "https://lh3.googleusercontent.com/a-/AOh14Gh9p0ybZ-LAWwdcp8mrFKY7mObMQQ4XhjxqEzwaUA=s64",
      "userId": "03594001358715993439"
     },
     "user_tz": -60
    },
    "hidden": true,
    "id": "HfepAWP2Tsjn",
    "outputId": "9cd297fe-cabb-4785-898d-84caa531782e"
   },
   "outputs": [],
   "source": [
    "l = ' | '.join(imparedData.columns.tolist())\n",
    "f\"{len(imparedData.columns)} entries : {l}\""
   ]
  },
  {
   "cell_type": "code",
   "execution_count": null,
   "metadata": {
    "colab": {
     "base_uri": "https://localhost:8080/",
     "height": 1000
    },
    "executionInfo": {
     "elapsed": 7791,
     "status": "error",
     "timestamp": 1648141894993,
     "user": {
      "displayName": "zakaria rafa",
      "photoUrl": "https://lh3.googleusercontent.com/a-/AOh14Gh9p0ybZ-LAWwdcp8mrFKY7mObMQQ4XhjxqEzwaUA=s64",
      "userId": "03594001358715993439"
     },
     "user_tz": -60
    },
    "hidden": true,
    "id": "73KrxrvKz3MF",
    "outputId": "ed721373-e4be-4318-8432-309c384627a8"
   },
   "outputs": [],
   "source": [
    "df = imparedData\n",
    "\n",
    "colToScan = [\"purchase_places\",\"last_modified_t\",\"product_name\",\"creator\",\"cities\",\"cities_tags\",\"stores\"\t] #4\n",
    "\n",
    "g = len(colToScan)\n",
    "\n",
    "nblig = int(g/6)+1\n",
    "nbcol = 6\n",
    "\n",
    "fig,ax = plt.subplots(figsize=(20,15))\n",
    "spec = fig.add_gridspec(ncols=nblig, nrows=nbcol)\n",
    "\n",
    "i=0\n",
    "\n",
    "wordcloud = WordCloud(background_color='white', width = 300, height=300, margin=2)\n",
    "\n",
    "\n",
    "for i in range(len(colToScan)) : \n",
    "\n",
    "    axi = fig.add_subplot(spec[i])\n",
    "    val_series = df[colToScan[i]].value_counts()\n",
    "\n",
    "    axi.set_title(colToScan[i])\n",
    "    text = ' '.join(imparedData.columns.tolist())\n",
    "\n",
    "    #  wordcloud.generate(' '.join(imparedData[colToScan[i]].tolist()))\n",
    "    #  ax[i].imshow(wordcloud)\n",
    "\n",
    "    try :\n",
    "        wordcloud.fit_words(val_series.to_dict())\n",
    "        axi.imshow(wordcloud)\n",
    "\n",
    "        axi.axis(\"off\")\n",
    "    except Exception as e :\n",
    "        \n",
    "        print(f\"\"\"_________________________________________________\n",
    "handling ax {i} - {colToScan[i]}\n",
    "******************************************\n",
    "{val_series}\"\"\")\n",
    "\n",
    "  \n",
    "\n",
    "plt.axis(\"off\")\n",
    "plt.axis(\"off\")\n",
    "plt.show()"
   ]
  },
  {
   "cell_type": "code",
   "execution_count": null,
   "metadata": {
    "colab": {
     "base_uri": "https://localhost:8080/",
     "height": 277
    },
    "executionInfo": {
     "elapsed": 1323,
     "status": "ok",
     "timestamp": 1648141756855,
     "user": {
      "displayName": "zakaria rafa",
      "photoUrl": "https://lh3.googleusercontent.com/a-/AOh14Gh9p0ybZ-LAWwdcp8mrFKY7mObMQQ4XhjxqEzwaUA=s64",
      "userId": "03594001358715993439"
     },
     "user_tz": -60
    },
    "hidden": true,
    "id": "UyQM5Sfe060k",
    "outputId": "a4cf4bb5-fe5a-4eab-cf6c-b27659c5db13"
   },
   "outputs": [],
   "source": [
    "def annotate_axes(ax, text, fontsize=18):\n",
    "    ax.text(0.5, 0.5, text, transform=ax.transAxes,\n",
    "            ha=\"center\", va=\"center\", fontsize=fontsize, color=\"darkgrey\")\n",
    "    \n",
    "fig = plt.figure(figsize=(5.5, 3.5), constrained_layout=True)\n",
    "\n",
    "spec = fig.add_gridspec(ncols=2, nrows=2)\n",
    "\n",
    "N = 4\n",
    "\n",
    "for i in range(N) :\n",
    "  axi = fig.add_subplot(spec[i])\n",
    "  annotate_axes(axi, f'ax {i}')\n",
    "\n"
   ]
  },
  {
   "cell_type": "code",
   "execution_count": null,
   "metadata": {
    "colab": {
     "base_uri": "https://localhost:8080/"
    },
    "executionInfo": {
     "elapsed": 365,
     "status": "ok",
     "timestamp": 1648140831670,
     "user": {
      "displayName": "zakaria rafa",
      "photoUrl": "https://lh3.googleusercontent.com/a-/AOh14Gh9p0ybZ-LAWwdcp8mrFKY7mObMQQ4XhjxqEzwaUA=s64",
      "userId": "03594001358715993439"
     },
     "user_tz": -60
    },
    "hidden": true,
    "id": "Q6UZFLHk2Rpy",
    "outputId": "7d1f3a67-8167-4d74-c3b4-0def762e300d"
   },
   "outputs": [],
   "source": [
    "i,j"
   ]
  },
  {
   "cell_type": "code",
   "execution_count": null,
   "metadata": {
    "colab": {
     "base_uri": "https://localhost:8080/"
    },
    "executionInfo": {
     "elapsed": 421,
     "status": "ok",
     "timestamp": 1648138736200,
     "user": {
      "displayName": "zakaria rafa",
      "photoUrl": "https://lh3.googleusercontent.com/a-/AOh14Gh9p0ybZ-LAWwdcp8mrFKY7mObMQQ4XhjxqEzwaUA=s64",
      "userId": "03594001358715993439"
     },
     "user_tz": -60
    },
    "hidden": true,
    "id": "qYtKD8tZH8bB",
    "outputId": "71093075-4aea-438b-9660-ea1896e9c731"
   },
   "outputs": [],
   "source": [
    "val_series\n"
   ]
  },
  {
   "cell_type": "code",
   "execution_count": null,
   "metadata": {
    "colab": {
     "base_uri": "https://localhost:8080/"
    },
    "executionInfo": {
     "elapsed": 749,
     "status": "ok",
     "timestamp": 1648118095449,
     "user": {
      "displayName": "zakaria rafa",
      "photoUrl": "https://lh3.googleusercontent.com/a-/AOh14Gh9p0ybZ-LAWwdcp8mrFKY7mObMQQ4XhjxqEzwaUA=s64",
      "userId": "03594001358715993439"
     },
     "user_tz": -60
    },
    "hidden": true,
    "id": "x1NYnDcbLf7L",
    "outputId": "d8bc024c-4a4c-4b0c-ca4d-5cf4b680bfe2"
   },
   "outputs": [],
   "source": [
    "#manual check time stamps\n",
    "from datetime import datetime\n",
    "\n",
    "def convert_timestamp(timestamp) :\n",
    "  converted = None\n",
    "  try : \n",
    "   # print(\"trying to convert\")\n",
    "    converted = datetime.fromtimestamp(int(timestamp))\n",
    "  except Exception as e :\n",
    "    print(e)\n",
    "  \n",
    " # print(timestamp,\"converted in : \",converted)\n",
    "\n",
    "  return converted\n",
    "\n",
    "\n",
    "\n",
    "df0[\"last_modified_t\"].apply(lambda timestamp: convert_timestamp(timestamp))"
   ]
  },
  {
   "cell_type": "markdown",
   "metadata": {
    "hidden": true
   },
   "source": [
    "## cutting off low freq fillrate"
   ]
  },
  {
   "cell_type": "code",
   "execution_count": null,
   "metadata": {
    "colab": {
     "base_uri": "https://localhost:8080/",
     "height": 423
    },
    "executionInfo": {
     "elapsed": 29,
     "status": "ok",
     "timestamp": 1648111390305,
     "user": {
      "displayName": "zakaria rafa",
      "photoUrl": "https://lh3.googleusercontent.com/a-/AOh14Gh9p0ybZ-LAWwdcp8mrFKY7mObMQQ4XhjxqEzwaUA=s64",
      "userId": "03594001358715993439"
     },
     "user_tz": -60
    },
    "hidden": true,
    "id": "kMPuVdUcwNZh",
    "outputId": "ff24bc6c-a1c4-415e-aeee-299f7c5e0e43"
   },
   "outputs": [],
   "source": [
    "cutoff = 10\n",
    "df1_desc_select = df1_desc[df1_desc[\"fillRate%\"]>cutoff]\n",
    "df1_desc_select"
   ]
  },
  {
   "cell_type": "code",
   "execution_count": null,
   "metadata": {
    "colab": {
     "base_uri": "https://localhost:8080/",
     "height": 866,
     "referenced_widgets": [
      "267b7396afd54b8784b11ad27b897220",
      "ac9075629ebc49d9b34b7ff368945302",
      "b3721ca820694fe8871f3ce55b0f3e78"
     ]
    },
    "executionInfo": {
     "elapsed": 3356,
     "status": "ok",
     "timestamp": 1648111519615,
     "user": {
      "displayName": "zakaria rafa",
      "photoUrl": "https://lh3.googleusercontent.com/a-/AOh14Gh9p0ybZ-LAWwdcp8mrFKY7mObMQQ4XhjxqEzwaUA=s64",
      "userId": "03594001358715993439"
     },
     "user_tz": -60
    },
    "hidden": true,
    "id": "i5etdo_Z3XdY",
    "outputId": "857b9e3e-b417-49ef-d19f-f6d219af3798"
   },
   "outputs": [],
   "source": [
    "display(HTML(f\"\"\"<h1>Low freq cutoff : {df1_desc_select.shape[0]}\"\"\")) \n",
    "\n",
    "screenDF(df1_desc_select,25,15)\n",
    "\n"
   ]
  },
  {
   "cell_type": "markdown",
   "metadata": {
    "hidden": true,
    "id": "x0kSePlK8G7B"
   },
   "source": [
    "## droped to be investigated"
   ]
  },
  {
   "cell_type": "code",
   "execution_count": null,
   "metadata": {
    "colab": {
     "base_uri": "https://localhost:8080/"
    },
    "executionInfo": {
     "elapsed": 16,
     "status": "ok",
     "timestamp": 1648111392760,
     "user": {
      "displayName": "zakaria rafa",
      "photoUrl": "https://lh3.googleusercontent.com/a-/AOh14Gh9p0ybZ-LAWwdcp8mrFKY7mObMQQ4XhjxqEzwaUA=s64",
      "userId": "03594001358715993439"
     },
     "user_tz": -60
    },
    "hidden": true,
    "id": "95NP0yS05hsf",
    "outputId": "cf083f41-e1b9-485b-c156-39d8fcd11869"
   },
   "outputs": [],
   "source": [
    "print(len(errors_dict),\"errors to be investigated\")"
   ]
  },
  {
   "cell_type": "code",
   "execution_count": null,
   "metadata": {
    "colab": {
     "base_uri": "https://localhost:8080/",
     "height": 665
    },
    "executionInfo": {
     "elapsed": 10801,
     "status": "ok",
     "timestamp": 1648111403548,
     "user": {
      "displayName": "zakaria rafa",
      "photoUrl": "https://lh3.googleusercontent.com/a-/AOh14Gh9p0ybZ-LAWwdcp8mrFKY7mObMQQ4XhjxqEzwaUA=s64",
      "userId": "03594001358715993439"
     },
     "user_tz": -60
    },
    "hidden": true,
    "id": "fujte1p15TbM",
    "outputId": "f92985d3-22e3-4fa4-fc9d-7bfe4579f329"
   },
   "outputs": [],
   "source": [
    "to_review = list(set (df1.columns) - set(df1_desc_select.index.tolist()) )\n",
    "df1[to_review].head()\n",
    "\n",
    "fig,(ax0,ax1) = plt.subplots(1,2,figsize=(25,12))\n",
    "\n",
    "import wordcloud\n",
    "\n",
    "#not weighted\n",
    "\n",
    "text = ' '.join(to_review)\n",
    "\n",
    "wordcloud = WordCloud(background_color='white', width = 300, height=300, margin=2).generate(str(text))\n",
    "\n",
    "ax0.imshow(wordcloud)\n",
    "ax0.axis(\"off\")\n",
    "\n",
    "#weighted\n",
    "\n",
    "df_lost = df1.drop(df1_desc_select.index.tolist(),axis=1)\n",
    "lost_series = len(df_lost)-df_lost.isna().sum()\n",
    "lost_dict = lost_series.to_dict()\n",
    "lost_dict\n",
    "wordcloud.background_color = 'black'\n",
    "a = wordcloud.fit_words(lost_dict)\n",
    "ax1.imshow(a)\n",
    "\n",
    "ax1.axis(\"off\")\n",
    "\n",
    "\n",
    "plt.show()\n"
   ]
  },
  {
   "cell_type": "markdown",
   "metadata": {
    "hidden": true,
    "id": "Z-iMKMpp8Rff"
   },
   "source": [
    "## working on subset data : "
   ]
  },
  {
   "cell_type": "code",
   "execution_count": null,
   "metadata": {
    "executionInfo": {
     "elapsed": 28,
     "status": "ok",
     "timestamp": 1648111403549,
     "user": {
      "displayName": "zakaria rafa",
      "photoUrl": "https://lh3.googleusercontent.com/a-/AOh14Gh9p0ybZ-LAWwdcp8mrFKY7mObMQQ4XhjxqEzwaUA=s64",
      "userId": "03594001358715993439"
     },
     "user_tz": -60
    },
    "hidden": true,
    "id": "6nGMG1898Qk9"
   },
   "outputs": [],
   "source": [
    "df2 = df1[df1_desc_select.index.tolist()]"
   ]
  },
  {
   "cell_type": "code",
   "execution_count": null,
   "metadata": {
    "colab": {
     "base_uri": "https://localhost:8080/"
    },
    "executionInfo": {
     "elapsed": 830,
     "status": "ok",
     "timestamp": 1648112212435,
     "user": {
      "displayName": "zakaria rafa",
      "photoUrl": "https://lh3.googleusercontent.com/a-/AOh14Gh9p0ybZ-LAWwdcp8mrFKY7mObMQQ4XhjxqEzwaUA=s64",
      "userId": "03594001358715993439"
     },
     "user_tz": -60
    },
    "hidden": true,
    "id": "m6fSZVwIIoyE",
    "outputId": "560968ce-4959-475b-a6e7-7af0383d0349"
   },
   "outputs": [],
   "source": [
    "df1['last_modified_t'].isna().sum()"
   ]
  },
  {
   "cell_type": "code",
   "execution_count": null,
   "metadata": {
    "colab": {
     "base_uri": "https://localhost:8080/"
    },
    "executionInfo": {
     "elapsed": 7,
     "status": "ok",
     "timestamp": 1648111997140,
     "user": {
      "displayName": "zakaria rafa",
      "photoUrl": "https://lh3.googleusercontent.com/a-/AOh14Gh9p0ybZ-LAWwdcp8mrFKY7mObMQQ4XhjxqEzwaUA=s64",
      "userId": "03594001358715993439"
     },
     "user_tz": -60
    },
    "hidden": true,
    "id": "n143hehFIQlE",
    "outputId": "c7de3f1c-8100-466f-ad90-31f002e0f143"
   },
   "outputs": [],
   "source": [
    "df1_desc_select.index.tolist()[:10]"
   ]
  },
  {
   "cell_type": "code",
   "execution_count": null,
   "metadata": {
    "colab": {
     "base_uri": "https://localhost:8080/",
     "height": 1000
    },
    "executionInfo": {
     "elapsed": 464,
     "status": "ok",
     "timestamp": 1648112033233,
     "user": {
      "displayName": "zakaria rafa",
      "photoUrl": "https://lh3.googleusercontent.com/a-/AOh14Gh9p0ybZ-LAWwdcp8mrFKY7mObMQQ4XhjxqEzwaUA=s64",
      "userId": "03594001358715993439"
     },
     "user_tz": -60
    },
    "hidden": true,
    "id": "MuMq7g4JIWpP",
    "outputId": "fb2fd3a5-47f4-43c1-d15b-c519bb4ab175"
   },
   "outputs": [],
   "source": [
    "df1[df1_desc_select.index.tolist()[:10]]"
   ]
  },
  {
   "cell_type": "code",
   "execution_count": null,
   "metadata": {
    "colab": {
     "base_uri": "https://localhost:8080/",
     "height": 68,
     "referenced_widgets": [
      "353d060ad0db40cdaae122bd303a22fc",
      "90af72725ea344dd9005767a4b8c498f",
      "71069269efbb4662af9a15e0e1d7bcfb"
     ]
    },
    "executionInfo": {
     "elapsed": 9,
     "status": "ok",
     "timestamp": 1648111915690,
     "user": {
      "displayName": "zakaria rafa",
      "photoUrl": "https://lh3.googleusercontent.com/a-/AOh14Gh9p0ybZ-LAWwdcp8mrFKY7mObMQQ4XhjxqEzwaUA=s64",
      "userId": "03594001358715993439"
     },
     "user_tz": -60
    },
    "hidden": true,
    "id": "pqGR6A-qBtxa",
    "outputId": "98b2f44d-b998-40d6-ab71-77cff7a0bd7f"
   },
   "outputs": [],
   "source": [
    "lostRate = list((map(lambda x,y : f\"{100*(1-x/y):.0f}%\" , df2.shape , df1.shape)))\n",
    "\n",
    "display(HTML(f\"<h2>lost data (r,c) : {lostRate}\"))\n",
    "\n"
   ]
  },
  {
   "cell_type": "code",
   "execution_count": null,
   "metadata": {
    "colab": {
     "base_uri": "https://localhost:8080/",
     "height": 1000,
     "referenced_widgets": [
      "98cc36c0918d4e66a61e43453b861716",
      "5c432bc000c443beab8cce2992dcf00d",
      "94ec7292ce9c4a7eab50a7ad7f578287",
      "52354a9bb1cc4ec6bbc211a30d8b3f8e",
      "a5fb8049c4164f7dab1e44e2742774cc",
      "baf59e22f00b4d4d93e3986ea5cf2089",
      "a77c0f56219b4d3fb0559fb4a15d1a58",
      "f2a7b0c9816842ebbf8536d5fb0eac07",
      "77fd43206ef74fb0acfce68715fcc726",
      "9d0e9ed8760e407aa421a7fb498871a3",
      "22f1b8ebeaa3469497e9b5449441bf80",
      "3d2b2f536f5043d99ad9bb0d4d4ed416"
     ]
    },
    "executionInfo": {
     "elapsed": 1710,
     "status": "ok",
     "timestamp": 1648111405235,
     "user": {
      "displayName": "zakaria rafa",
      "photoUrl": "https://lh3.googleusercontent.com/a-/AOh14Gh9p0ybZ-LAWwdcp8mrFKY7mObMQQ4XhjxqEzwaUA=s64",
      "userId": "03594001358715993439"
     },
     "user_tz": -60
    },
    "hidden": true,
    "id": "QD6A7cF48ssW",
    "outputId": "a91f1dae-cec8-47a6-c432-d9788be14331"
   },
   "outputs": [],
   "source": [
    "df2,desc2_dict,errors2_dict = clean1(df2)"
   ]
  },
  {
   "cell_type": "code",
   "execution_count": null,
   "metadata": {
    "colab": {
     "base_uri": "https://localhost:8080/",
     "height": 913
    },
    "executionInfo": {
     "elapsed": 5587,
     "status": "ok",
     "timestamp": 1648111410814,
     "user": {
      "displayName": "zakaria rafa",
      "photoUrl": "https://lh3.googleusercontent.com/a-/AOh14Gh9p0ybZ-LAWwdcp8mrFKY7mObMQQ4XhjxqEzwaUA=s64",
      "userId": "03594001358715993439"
     },
     "user_tz": -60
    },
    "hidden": true,
    "id": "ptgggGal8wMd",
    "outputId": "4a1ab410-d0b8-4beb-e111-154273485ef8"
   },
   "outputs": [],
   "source": [
    "#\n",
    "msno.dendrogram(df2)\n"
   ]
  },
  {
   "cell_type": "code",
   "execution_count": null,
   "metadata": {
    "colab": {
     "base_uri": "https://localhost:8080/",
     "height": 166
    },
    "executionInfo": {
     "elapsed": 30,
     "status": "error",
     "timestamp": 1648111410823,
     "user": {
      "displayName": "zakaria rafa",
      "photoUrl": "https://lh3.googleusercontent.com/a-/AOh14Gh9p0ybZ-LAWwdcp8mrFKY7mObMQQ4XhjxqEzwaUA=s64",
      "userId": "03594001358715993439"
     },
     "user_tz": -60
    },
    "hidden": true,
    "id": "QQKthrbUANJQ",
    "outputId": "458c78f1-cbe0-4931-a567-a56a152cb9b8"
   },
   "outputs": [],
   "source": [
    "df1_desc_select == df2_desc"
   ]
  },
  {
   "cell_type": "code",
   "execution_count": null,
   "metadata": {
    "executionInfo": {
     "elapsed": 19,
     "status": "aborted",
     "timestamp": 1648111410815,
     "user": {
      "displayName": "zakaria rafa",
      "photoUrl": "https://lh3.googleusercontent.com/a-/AOh14Gh9p0ybZ-LAWwdcp8mrFKY7mObMQQ4XhjxqEzwaUA=s64",
      "userId": "03594001358715993439"
     },
     "user_tz": -60
    },
    "hidden": true,
    "id": "HH7tBbEECVg3"
   },
   "outputs": [],
   "source": [
    "df2_desc = pd.DataFrame(desc2_dict).transpose()\n",
    "screenDF(df2_desc)\n",
    "#df2_desc"
   ]
  },
  {
   "cell_type": "code",
   "execution_count": null,
   "metadata": {
    "executionInfo": {
     "elapsed": 20,
     "status": "aborted",
     "timestamp": 1648111410816,
     "user": {
      "displayName": "zakaria rafa",
      "photoUrl": "https://lh3.googleusercontent.com/a-/AOh14Gh9p0ybZ-LAWwdcp8mrFKY7mObMQQ4XhjxqEzwaUA=s64",
      "userId": "03594001358715993439"
     },
     "user_tz": -60
    },
    "hidden": true,
    "id": "qqOjPgkvassp"
   },
   "outputs": [],
   "source": [
    "msno.heatmap(df2)\n",
    "plt.show()"
   ]
  },
  {
   "cell_type": "code",
   "execution_count": null,
   "metadata": {
    "executionInfo": {
     "elapsed": 25,
     "status": "aborted",
     "timestamp": 1648111410821,
     "user": {
      "displayName": "zakaria rafa",
      "photoUrl": "https://lh3.googleusercontent.com/a-/AOh14Gh9p0ybZ-LAWwdcp8mrFKY7mObMQQ4XhjxqEzwaUA=s64",
      "userId": "03594001358715993439"
     },
     "user_tz": -60
    },
    "hidden": true,
    "id": "VanWvhCTbKPu"
   },
   "outputs": [],
   "source": []
  },
  {
   "cell_type": "code",
   "execution_count": null,
   "metadata": {
    "hidden": true
   },
   "outputs": [],
   "source": []
  }
 ],
 "metadata": {
  "colab": {
   "authorship_tag": "ABX9TyMTd6vin1HsqUFUkpdOX1Ib",
   "collapsed_sections": [
    "PwUFzJ3T46Xh",
    "m0W7lnvU5EIl",
    "Z-iMKMpp8Rff"
   ],
   "name": "P3_02_Rafa_Zakaria.ipynb",
   "provenance": []
  },
  "kernelspec": {
   "display_name": "Python 3 (ipykernel)",
   "language": "python",
   "name": "python3"
  },
  "language_info": {
   "codemirror_mode": {
    "name": "ipython",
    "version": 3
   },
   "file_extension": ".py",
   "mimetype": "text/x-python",
   "name": "python",
   "nbconvert_exporter": "python",
   "pygments_lexer": "ipython3",
   "version": "3.9.7"
  },
  "toc": {
   "base_numbering": 1,
   "nav_menu": {},
   "number_sections": true,
   "sideBar": true,
   "skip_h1_title": false,
   "title_cell": "Table of Contents",
   "title_sidebar": "Contents",
   "toc_cell": false,
   "toc_position": {},
   "toc_section_display": true,
   "toc_window_display": false
  },
  "widgets": {
   "application/vnd.jupyter.widget-state+json": {
    "06a8a90433a04aed9e98142609470258": {
     "model_module": "@jupyter-widgets/base",
     "model_module_version": "1.2.0",
     "model_name": "LayoutModel",
     "state": {
      "_model_module": "@jupyter-widgets/base",
      "_model_module_version": "1.2.0",
      "_model_name": "LayoutModel",
      "_view_count": null,
      "_view_module": "@jupyter-widgets/base",
      "_view_module_version": "1.2.0",
      "_view_name": "LayoutView",
      "align_content": null,
      "align_items": null,
      "align_self": null,
      "border": null,
      "bottom": null,
      "display": null,
      "flex": null,
      "flex_flow": null,
      "grid_area": null,
      "grid_auto_columns": null,
      "grid_auto_flow": null,
      "grid_auto_rows": null,
      "grid_column": null,
      "grid_gap": null,
      "grid_row": null,
      "grid_template_areas": null,
      "grid_template_columns": null,
      "grid_template_rows": null,
      "height": null,
      "justify_content": null,
      "justify_items": null,
      "left": null,
      "margin": null,
      "max_height": null,
      "max_width": null,
      "min_height": null,
      "min_width": null,
      "object_fit": null,
      "object_position": null,
      "order": null,
      "overflow": null,
      "overflow_x": null,
      "overflow_y": null,
      "padding": null,
      "right": null,
      "top": null,
      "visibility": null,
      "width": null
     }
    },
    "0915e43fbfe24170aebd8fd880f772bd": {
     "model_module": "@jupyter-widgets/controls",
     "model_module_version": "1.5.0",
     "model_name": "DescriptionStyleModel",
     "state": {
      "_model_module": "@jupyter-widgets/controls",
      "_model_module_version": "1.5.0",
      "_model_name": "DescriptionStyleModel",
      "_view_count": null,
      "_view_module": "@jupyter-widgets/base",
      "_view_module_version": "1.2.0",
      "_view_name": "StyleView",
      "description_width": ""
     }
    },
    "0bf75d8e6bbb4e4c914e767225ef4db6": {
     "model_module": "@jupyter-widgets/base",
     "model_module_version": "1.2.0",
     "model_name": "LayoutModel",
     "state": {
      "_model_module": "@jupyter-widgets/base",
      "_model_module_version": "1.2.0",
      "_model_name": "LayoutModel",
      "_view_count": null,
      "_view_module": "@jupyter-widgets/base",
      "_view_module_version": "1.2.0",
      "_view_name": "LayoutView",
      "align_content": null,
      "align_items": null,
      "align_self": null,
      "border": null,
      "bottom": null,
      "display": null,
      "flex": null,
      "flex_flow": null,
      "grid_area": null,
      "grid_auto_columns": null,
      "grid_auto_flow": null,
      "grid_auto_rows": null,
      "grid_column": null,
      "grid_gap": null,
      "grid_row": null,
      "grid_template_areas": null,
      "grid_template_columns": null,
      "grid_template_rows": null,
      "height": null,
      "justify_content": null,
      "justify_items": null,
      "left": null,
      "margin": null,
      "max_height": null,
      "max_width": null,
      "min_height": null,
      "min_width": null,
      "object_fit": null,
      "object_position": null,
      "order": null,
      "overflow": null,
      "overflow_x": null,
      "overflow_y": null,
      "padding": null,
      "right": null,
      "top": null,
      "visibility": null,
      "width": null
     }
    },
    "0e035fc1162b483db0acdd27a451fe7f": {
     "model_module": "@jupyter-widgets/base",
     "model_module_version": "1.2.0",
     "model_name": "LayoutModel",
     "state": {
      "_model_module": "@jupyter-widgets/base",
      "_model_module_version": "1.2.0",
      "_model_name": "LayoutModel",
      "_view_count": null,
      "_view_module": "@jupyter-widgets/base",
      "_view_module_version": "1.2.0",
      "_view_name": "LayoutView",
      "align_content": null,
      "align_items": null,
      "align_self": null,
      "border": null,
      "bottom": null,
      "display": null,
      "flex": null,
      "flex_flow": null,
      "grid_area": null,
      "grid_auto_columns": null,
      "grid_auto_flow": null,
      "grid_auto_rows": null,
      "grid_column": null,
      "grid_gap": null,
      "grid_row": null,
      "grid_template_areas": null,
      "grid_template_columns": null,
      "grid_template_rows": null,
      "height": null,
      "justify_content": null,
      "justify_items": null,
      "left": null,
      "margin": null,
      "max_height": null,
      "max_width": null,
      "min_height": null,
      "min_width": null,
      "object_fit": null,
      "object_position": null,
      "order": null,
      "overflow": null,
      "overflow_x": null,
      "overflow_y": null,
      "padding": null,
      "right": null,
      "top": null,
      "visibility": null,
      "width": null
     }
    },
    "11fb48b0ea274ba8a77a3c83941eaf39": {
     "model_module": "@jupyter-widgets/controls",
     "model_module_version": "1.5.0",
     "model_name": "HTMLModel",
     "state": {
      "_dom_classes": [],
      "_model_module": "@jupyter-widgets/controls",
      "_model_module_version": "1.5.0",
      "_model_name": "HTMLModel",
      "_view_count": null,
      "_view_module": "@jupyter-widgets/controls",
      "_view_module_version": "1.5.0",
      "_view_name": "HTMLView",
      "description": "",
      "description_tooltip": null,
      "layout": "IPY_MODEL_f1b28810f5584e7a858c14c616385a91",
      "placeholder": "​",
      "style": "IPY_MODEL_0915e43fbfe24170aebd8fd880f772bd",
      "value": "<font color='red'>\n      Droping empty column : glycemic-index_100g \n      </font>"
     }
    },
    "1216593f9f884a0b849a05579327b410": {
     "model_module": "@jupyter-widgets/controls",
     "model_module_version": "1.5.0",
     "model_name": "HTMLModel",
     "state": {
      "_dom_classes": [],
      "_model_module": "@jupyter-widgets/controls",
      "_model_module_version": "1.5.0",
      "_model_name": "HTMLModel",
      "_view_count": null,
      "_view_module": "@jupyter-widgets/controls",
      "_view_module_version": "1.5.0",
      "_view_name": "HTMLView",
      "description": "",
      "description_tooltip": null,
      "layout": "IPY_MODEL_72a7799b6e614605b1cc9f48bc3ae4e8",
      "placeholder": "​",
      "style": "IPY_MODEL_b3c0908801044c4fb9d4632a1d05b214",
      "value": "<font color='red'>\n      Droping empty column : ingredients_that_may_be_from_palm_oil \n      </font>"
     }
    },
    "16c6586ee85c49f598c68813bddb54e8": {
     "model_module": "@jupyter-widgets/controls",
     "model_module_version": "1.5.0",
     "model_name": "DescriptionStyleModel",
     "state": {
      "_model_module": "@jupyter-widgets/controls",
      "_model_module_version": "1.5.0",
      "_model_name": "DescriptionStyleModel",
      "_view_count": null,
      "_view_module": "@jupyter-widgets/base",
      "_view_module_version": "1.2.0",
      "_view_name": "StyleView",
      "description_width": ""
     }
    },
    "1cadf2fd55454ddc950af6e9f095d16d": {
     "model_module": "@jupyter-widgets/base",
     "model_module_version": "1.2.0",
     "model_name": "LayoutModel",
     "state": {
      "_model_module": "@jupyter-widgets/base",
      "_model_module_version": "1.2.0",
      "_model_name": "LayoutModel",
      "_view_count": null,
      "_view_module": "@jupyter-widgets/base",
      "_view_module_version": "1.2.0",
      "_view_name": "LayoutView",
      "align_content": null,
      "align_items": null,
      "align_self": null,
      "border": null,
      "bottom": null,
      "display": null,
      "flex": null,
      "flex_flow": null,
      "grid_area": null,
      "grid_auto_columns": null,
      "grid_auto_flow": null,
      "grid_auto_rows": null,
      "grid_column": null,
      "grid_gap": null,
      "grid_row": null,
      "grid_template_areas": null,
      "grid_template_columns": null,
      "grid_template_rows": null,
      "height": null,
      "justify_content": null,
      "justify_items": null,
      "left": null,
      "margin": null,
      "max_height": null,
      "max_width": null,
      "min_height": null,
      "min_width": null,
      "object_fit": null,
      "object_position": null,
      "order": null,
      "overflow": null,
      "overflow_x": null,
      "overflow_y": null,
      "padding": null,
      "right": null,
      "top": null,
      "visibility": null,
      "width": null
     }
    },
    "1ef459bd62804a2483ef96054d2bc7ab": {
     "model_module": "@jupyter-widgets/controls",
     "model_module_version": "1.5.0",
     "model_name": "DescriptionStyleModel",
     "state": {
      "_model_module": "@jupyter-widgets/controls",
      "_model_module_version": "1.5.0",
      "_model_name": "DescriptionStyleModel",
      "_view_count": null,
      "_view_module": "@jupyter-widgets/base",
      "_view_module_version": "1.2.0",
      "_view_name": "StyleView",
      "description_width": ""
     }
    },
    "22f1b8ebeaa3469497e9b5449441bf80": {
     "model_module": "@jupyter-widgets/base",
     "model_module_version": "1.2.0",
     "model_name": "LayoutModel",
     "state": {
      "_model_module": "@jupyter-widgets/base",
      "_model_module_version": "1.2.0",
      "_model_name": "LayoutModel",
      "_view_count": null,
      "_view_module": "@jupyter-widgets/base",
      "_view_module_version": "1.2.0",
      "_view_name": "LayoutView",
      "align_content": null,
      "align_items": null,
      "align_self": null,
      "border": null,
      "bottom": null,
      "display": null,
      "flex": null,
      "flex_flow": null,
      "grid_area": null,
      "grid_auto_columns": null,
      "grid_auto_flow": null,
      "grid_auto_rows": null,
      "grid_column": null,
      "grid_gap": null,
      "grid_row": null,
      "grid_template_areas": null,
      "grid_template_columns": null,
      "grid_template_rows": null,
      "height": null,
      "justify_content": null,
      "justify_items": null,
      "left": null,
      "margin": null,
      "max_height": null,
      "max_width": null,
      "min_height": null,
      "min_width": null,
      "object_fit": null,
      "object_position": null,
      "order": null,
      "overflow": null,
      "overflow_x": null,
      "overflow_y": null,
      "padding": null,
      "right": null,
      "top": null,
      "visibility": null,
      "width": null
     }
    },
    "267b7396afd54b8784b11ad27b897220": {
     "model_module": "@jupyter-widgets/controls",
     "model_module_version": "1.5.0",
     "model_name": "HTMLModel",
     "state": {
      "_dom_classes": [],
      "_model_module": "@jupyter-widgets/controls",
      "_model_module_version": "1.5.0",
      "_model_name": "HTMLModel",
      "_view_count": null,
      "_view_module": "@jupyter-widgets/controls",
      "_view_module_version": "1.5.0",
      "_view_name": "HTMLView",
      "description": "",
      "description_tooltip": null,
      "layout": "IPY_MODEL_ac9075629ebc49d9b34b7ff368945302",
      "placeholder": "​",
      "style": "IPY_MODEL_b3721ca820694fe8871f3ce55b0f3e78",
      "value": "<h1> (62, 5)"
     }
    },
    "2885856afd954639acc8f4338be2ec23": {
     "model_module": "@jupyter-widgets/controls",
     "model_module_version": "1.5.0",
     "model_name": "HTMLModel",
     "state": {
      "_dom_classes": [],
      "_model_module": "@jupyter-widgets/controls",
      "_model_module_version": "1.5.0",
      "_model_name": "HTMLModel",
      "_view_count": null,
      "_view_module": "@jupyter-widgets/controls",
      "_view_module_version": "1.5.0",
      "_view_name": "HTMLView",
      "description": "",
      "description_tooltip": null,
      "layout": "IPY_MODEL_4b62c4223cc64cf58ae2ee217efce28a",
      "placeholder": "​",
      "style": "IPY_MODEL_c641b90e60d046d9a2cb54e69e3ee701",
      "value": "<font color='red'>\n      Droping empty column : elaidic-acid_100g \n      </font>"
     }
    },
    "2add3786e50444ecb57b72dd5d0f3ab1": {
     "model_module": "@jupyter-widgets/controls",
     "model_module_version": "1.5.0",
     "model_name": "HTMLModel",
     "state": {
      "_dom_classes": [],
      "_model_module": "@jupyter-widgets/controls",
      "_model_module_version": "1.5.0",
      "_model_name": "HTMLModel",
      "_view_count": null,
      "_view_module": "@jupyter-widgets/controls",
      "_view_module_version": "1.5.0",
      "_view_name": "HTMLView",
      "description": "",
      "description_tooltip": null,
      "layout": "IPY_MODEL_78a33e12a8d041c281b73bd94747a983",
      "placeholder": "​",
      "style": "IPY_MODEL_1ef459bd62804a2483ef96054d2bc7ab",
      "value": "<font color='red'>\n      Droping empty column : chlorophyl_100g \n      </font>"
     }
    },
    "332766039c97464b94c129695482893e": {
     "model_module": "@jupyter-widgets/controls",
     "model_module_version": "1.5.0",
     "model_name": "HTMLModel",
     "state": {
      "_dom_classes": [],
      "_model_module": "@jupyter-widgets/controls",
      "_model_module_version": "1.5.0",
      "_model_name": "HTMLModel",
      "_view_count": null,
      "_view_module": "@jupyter-widgets/controls",
      "_view_module_version": "1.5.0",
      "_view_name": "HTMLView",
      "description": "",
      "description_tooltip": null,
      "layout": "IPY_MODEL_0bf75d8e6bbb4e4c914e767225ef4db6",
      "placeholder": "​",
      "style": "IPY_MODEL_16c6586ee85c49f598c68813bddb54e8",
      "value": "<font color='red'>\n      Droping empty column : butyric-acid_100g \n      </font>"
     }
    },
    "353d060ad0db40cdaae122bd303a22fc": {
     "model_module": "@jupyter-widgets/controls",
     "model_module_version": "1.5.0",
     "model_name": "HTMLModel",
     "state": {
      "_dom_classes": [],
      "_model_module": "@jupyter-widgets/controls",
      "_model_module_version": "1.5.0",
      "_model_name": "HTMLModel",
      "_view_count": null,
      "_view_module": "@jupyter-widgets/controls",
      "_view_module_version": "1.5.0",
      "_view_name": "HTMLView",
      "description": "",
      "description_tooltip": null,
      "layout": "IPY_MODEL_90af72725ea344dd9005767a4b8c498f",
      "placeholder": "​",
      "style": "IPY_MODEL_71069269efbb4662af9a15e0e1d7bcfb",
      "value": "<h2>lost data (r,c) : ['0%', '58%']"
     }
    },
    "3a8a7f216497467a8eaf221e88caad49": {
     "model_module": "@jupyter-widgets/controls",
     "model_module_version": "1.5.0",
     "model_name": "DescriptionStyleModel",
     "state": {
      "_model_module": "@jupyter-widgets/controls",
      "_model_module_version": "1.5.0",
      "_model_name": "DescriptionStyleModel",
      "_view_count": null,
      "_view_module": "@jupyter-widgets/base",
      "_view_module_version": "1.2.0",
      "_view_name": "StyleView",
      "description_width": ""
     }
    },
    "3c273f7ba3b04a5fa51072b71c7b080a": {
     "model_module": "@jupyter-widgets/controls",
     "model_module_version": "1.5.0",
     "model_name": "DescriptionStyleModel",
     "state": {
      "_model_module": "@jupyter-widgets/controls",
      "_model_module_version": "1.5.0",
      "_model_name": "DescriptionStyleModel",
      "_view_count": null,
      "_view_module": "@jupyter-widgets/base",
      "_view_module_version": "1.2.0",
      "_view_name": "StyleView",
      "description_width": ""
     }
    },
    "3cfb48ee078e47f3b129138e00f63f3d": {
     "model_module": "@jupyter-widgets/controls",
     "model_module_version": "1.5.0",
     "model_name": "HTMLModel",
     "state": {
      "_dom_classes": [],
      "_model_module": "@jupyter-widgets/controls",
      "_model_module_version": "1.5.0",
      "_model_name": "HTMLModel",
      "_view_count": null,
      "_view_module": "@jupyter-widgets/controls",
      "_view_module_version": "1.5.0",
      "_view_name": "HTMLView",
      "description": "",
      "description_tooltip": null,
      "layout": "IPY_MODEL_1cadf2fd55454ddc950af6e9f095d16d",
      "placeholder": "​",
      "style": "IPY_MODEL_a3bbabe0d78545f5b0941576df4259bd",
      "value": "<font color='red'>\n      Droping empty column : ingredients_from_palm_oil \n      </font>"
     }
    },
    "3d2b2f536f5043d99ad9bb0d4d4ed416": {
     "model_module": "@jupyter-widgets/controls",
     "model_module_version": "1.5.0",
     "model_name": "DescriptionStyleModel",
     "state": {
      "_model_module": "@jupyter-widgets/controls",
      "_model_module_version": "1.5.0",
      "_model_name": "DescriptionStyleModel",
      "_view_count": null,
      "_view_module": "@jupyter-widgets/base",
      "_view_module_version": "1.2.0",
      "_view_name": "StyleView",
      "description_width": ""
     }
    },
    "4a709244bd8547d1b540f728557010ea": {
     "model_module": "@jupyter-widgets/controls",
     "model_module_version": "1.5.0",
     "model_name": "HTMLModel",
     "state": {
      "_dom_classes": [],
      "_model_module": "@jupyter-widgets/controls",
      "_model_module_version": "1.5.0",
      "_model_name": "HTMLModel",
      "_view_count": null,
      "_view_module": "@jupyter-widgets/controls",
      "_view_module_version": "1.5.0",
      "_view_name": "HTMLView",
      "description": "",
      "description_tooltip": null,
      "layout": "IPY_MODEL_8312554d84664353a8e3465c4bff02de",
      "placeholder": "​",
      "style": "IPY_MODEL_573f57a118fd4064a435219a77d9b625",
      "value": "\n  <h2>Dropping empty rows </h2></strong>\n  "
     }
    },
    "4b3e285c44c74ad4a7c33aaabf66e42b": {
     "model_module": "@jupyter-widgets/controls",
     "model_module_version": "1.5.0",
     "model_name": "DescriptionStyleModel",
     "state": {
      "_model_module": "@jupyter-widgets/controls",
      "_model_module_version": "1.5.0",
      "_model_name": "DescriptionStyleModel",
      "_view_count": null,
      "_view_module": "@jupyter-widgets/base",
      "_view_module_version": "1.2.0",
      "_view_name": "StyleView",
      "description_width": ""
     }
    },
    "4b62c4223cc64cf58ae2ee217efce28a": {
     "model_module": "@jupyter-widgets/base",
     "model_module_version": "1.2.0",
     "model_name": "LayoutModel",
     "state": {
      "_model_module": "@jupyter-widgets/base",
      "_model_module_version": "1.2.0",
      "_model_name": "LayoutModel",
      "_view_count": null,
      "_view_module": "@jupyter-widgets/base",
      "_view_module_version": "1.2.0",
      "_view_name": "LayoutView",
      "align_content": null,
      "align_items": null,
      "align_self": null,
      "border": null,
      "bottom": null,
      "display": null,
      "flex": null,
      "flex_flow": null,
      "grid_area": null,
      "grid_auto_columns": null,
      "grid_auto_flow": null,
      "grid_auto_rows": null,
      "grid_column": null,
      "grid_gap": null,
      "grid_row": null,
      "grid_template_areas": null,
      "grid_template_columns": null,
      "grid_template_rows": null,
      "height": null,
      "justify_content": null,
      "justify_items": null,
      "left": null,
      "margin": null,
      "max_height": null,
      "max_width": null,
      "min_height": null,
      "min_width": null,
      "object_fit": null,
      "object_position": null,
      "order": null,
      "overflow": null,
      "overflow_x": null,
      "overflow_y": null,
      "padding": null,
      "right": null,
      "top": null,
      "visibility": null,
      "width": null
     }
    },
    "4f252f7fe1794be389cfec17baffc64b": {
     "model_module": "@jupyter-widgets/controls",
     "model_module_version": "1.5.0",
     "model_name": "HTMLModel",
     "state": {
      "_dom_classes": [],
      "_model_module": "@jupyter-widgets/controls",
      "_model_module_version": "1.5.0",
      "_model_name": "HTMLModel",
      "_view_count": null,
      "_view_module": "@jupyter-widgets/controls",
      "_view_module_version": "1.5.0",
      "_view_name": "HTMLView",
      "description": "",
      "description_tooltip": null,
      "layout": "IPY_MODEL_d73fc9b12f2e49b596961af136a7a00d",
      "placeholder": "​",
      "style": "IPY_MODEL_89a082a08b4b448b8e3e2aaed794994a",
      "value": "<font color='red'>\n      Droping empty column : nutrition_grade_uk \n      </font>"
     }
    },
    "51f0dc1cede14db3824d998afce2a36a": {
     "model_module": "@jupyter-widgets/base",
     "model_module_version": "1.2.0",
     "model_name": "LayoutModel",
     "state": {
      "_model_module": "@jupyter-widgets/base",
      "_model_module_version": "1.2.0",
      "_model_name": "LayoutModel",
      "_view_count": null,
      "_view_module": "@jupyter-widgets/base",
      "_view_module_version": "1.2.0",
      "_view_name": "LayoutView",
      "align_content": null,
      "align_items": null,
      "align_self": null,
      "border": null,
      "bottom": null,
      "display": null,
      "flex": null,
      "flex_flow": null,
      "grid_area": null,
      "grid_auto_columns": null,
      "grid_auto_flow": null,
      "grid_auto_rows": null,
      "grid_column": null,
      "grid_gap": null,
      "grid_row": null,
      "grid_template_areas": null,
      "grid_template_columns": null,
      "grid_template_rows": null,
      "height": null,
      "justify_content": null,
      "justify_items": null,
      "left": null,
      "margin": null,
      "max_height": null,
      "max_width": null,
      "min_height": null,
      "min_width": null,
      "object_fit": null,
      "object_position": null,
      "order": null,
      "overflow": null,
      "overflow_x": null,
      "overflow_y": null,
      "padding": null,
      "right": null,
      "top": null,
      "visibility": null,
      "width": null
     }
    },
    "52354a9bb1cc4ec6bbc211a30d8b3f8e": {
     "model_module": "@jupyter-widgets/controls",
     "model_module_version": "1.5.0",
     "model_name": "HTMLModel",
     "state": {
      "_dom_classes": [],
      "_model_module": "@jupyter-widgets/controls",
      "_model_module_version": "1.5.0",
      "_model_name": "HTMLModel",
      "_view_count": null,
      "_view_module": "@jupyter-widgets/controls",
      "_view_module_version": "1.5.0",
      "_view_name": "HTMLView",
      "description": "",
      "description_tooltip": null,
      "layout": "IPY_MODEL_a5fb8049c4164f7dab1e44e2742774cc",
      "placeholder": "​",
      "style": "IPY_MODEL_baf59e22f00b4d4d93e3986ea5cf2089",
      "value": "\n<strong>\n  <h2>droping empty columns</h2></strong>\n  "
     }
    },
    "573f57a118fd4064a435219a77d9b625": {
     "model_module": "@jupyter-widgets/controls",
     "model_module_version": "1.5.0",
     "model_name": "DescriptionStyleModel",
     "state": {
      "_model_module": "@jupyter-widgets/controls",
      "_model_module_version": "1.5.0",
      "_model_name": "DescriptionStyleModel",
      "_view_count": null,
      "_view_module": "@jupyter-widgets/base",
      "_view_module_version": "1.2.0",
      "_view_name": "StyleView",
      "description_width": ""
     }
    },
    "5875b7a59e0f49daa85e9c64ed58d1dd": {
     "model_module": "@jupyter-widgets/controls",
     "model_module_version": "1.5.0",
     "model_name": "DescriptionStyleModel",
     "state": {
      "_model_module": "@jupyter-widgets/controls",
      "_model_module_version": "1.5.0",
      "_model_name": "DescriptionStyleModel",
      "_view_count": null,
      "_view_module": "@jupyter-widgets/base",
      "_view_module_version": "1.2.0",
      "_view_name": "StyleView",
      "description_width": ""
     }
    },
    "587c117f1f7c4f7197fbda791ef43612": {
     "model_module": "@jupyter-widgets/base",
     "model_module_version": "1.2.0",
     "model_name": "LayoutModel",
     "state": {
      "_model_module": "@jupyter-widgets/base",
      "_model_module_version": "1.2.0",
      "_model_name": "LayoutModel",
      "_view_count": null,
      "_view_module": "@jupyter-widgets/base",
      "_view_module_version": "1.2.0",
      "_view_name": "LayoutView",
      "align_content": null,
      "align_items": null,
      "align_self": null,
      "border": null,
      "bottom": null,
      "display": null,
      "flex": null,
      "flex_flow": null,
      "grid_area": null,
      "grid_auto_columns": null,
      "grid_auto_flow": null,
      "grid_auto_rows": null,
      "grid_column": null,
      "grid_gap": null,
      "grid_row": null,
      "grid_template_areas": null,
      "grid_template_columns": null,
      "grid_template_rows": null,
      "height": null,
      "justify_content": null,
      "justify_items": null,
      "left": null,
      "margin": null,
      "max_height": null,
      "max_width": null,
      "min_height": null,
      "min_width": null,
      "object_fit": null,
      "object_position": null,
      "order": null,
      "overflow": null,
      "overflow_x": null,
      "overflow_y": null,
      "padding": null,
      "right": null,
      "top": null,
      "visibility": null,
      "width": null
     }
    },
    "5b8b9d0991ec49fa8fcf61664d6c913a": {
     "model_module": "@jupyter-widgets/base",
     "model_module_version": "1.2.0",
     "model_name": "LayoutModel",
     "state": {
      "_model_module": "@jupyter-widgets/base",
      "_model_module_version": "1.2.0",
      "_model_name": "LayoutModel",
      "_view_count": null,
      "_view_module": "@jupyter-widgets/base",
      "_view_module_version": "1.2.0",
      "_view_name": "LayoutView",
      "align_content": null,
      "align_items": null,
      "align_self": null,
      "border": null,
      "bottom": null,
      "display": null,
      "flex": null,
      "flex_flow": null,
      "grid_area": null,
      "grid_auto_columns": null,
      "grid_auto_flow": null,
      "grid_auto_rows": null,
      "grid_column": null,
      "grid_gap": null,
      "grid_row": null,
      "grid_template_areas": null,
      "grid_template_columns": null,
      "grid_template_rows": null,
      "height": null,
      "justify_content": null,
      "justify_items": null,
      "left": null,
      "margin": null,
      "max_height": null,
      "max_width": null,
      "min_height": null,
      "min_width": null,
      "object_fit": null,
      "object_position": null,
      "order": null,
      "overflow": null,
      "overflow_x": null,
      "overflow_y": null,
      "padding": null,
      "right": null,
      "top": null,
      "visibility": null,
      "width": null
     }
    },
    "5c432bc000c443beab8cce2992dcf00d": {
     "model_module": "@jupyter-widgets/base",
     "model_module_version": "1.2.0",
     "model_name": "LayoutModel",
     "state": {
      "_model_module": "@jupyter-widgets/base",
      "_model_module_version": "1.2.0",
      "_model_name": "LayoutModel",
      "_view_count": null,
      "_view_module": "@jupyter-widgets/base",
      "_view_module_version": "1.2.0",
      "_view_name": "LayoutView",
      "align_content": null,
      "align_items": null,
      "align_self": null,
      "border": null,
      "bottom": null,
      "display": null,
      "flex": null,
      "flex_flow": null,
      "grid_area": null,
      "grid_auto_columns": null,
      "grid_auto_flow": null,
      "grid_auto_rows": null,
      "grid_column": null,
      "grid_gap": null,
      "grid_row": null,
      "grid_template_areas": null,
      "grid_template_columns": null,
      "grid_template_rows": null,
      "height": null,
      "justify_content": null,
      "justify_items": null,
      "left": null,
      "margin": null,
      "max_height": null,
      "max_width": null,
      "min_height": null,
      "min_width": null,
      "object_fit": null,
      "object_position": null,
      "order": null,
      "overflow": null,
      "overflow_x": null,
      "overflow_y": null,
      "padding": null,
      "right": null,
      "top": null,
      "visibility": null,
      "width": null
     }
    },
    "5db599965b95479b8e85334d99f0004d": {
     "model_module": "@jupyter-widgets/base",
     "model_module_version": "1.2.0",
     "model_name": "LayoutModel",
     "state": {
      "_model_module": "@jupyter-widgets/base",
      "_model_module_version": "1.2.0",
      "_model_name": "LayoutModel",
      "_view_count": null,
      "_view_module": "@jupyter-widgets/base",
      "_view_module_version": "1.2.0",
      "_view_name": "LayoutView",
      "align_content": null,
      "align_items": null,
      "align_self": null,
      "border": null,
      "bottom": null,
      "display": null,
      "flex": null,
      "flex_flow": null,
      "grid_area": null,
      "grid_auto_columns": null,
      "grid_auto_flow": null,
      "grid_auto_rows": null,
      "grid_column": null,
      "grid_gap": null,
      "grid_row": null,
      "grid_template_areas": null,
      "grid_template_columns": null,
      "grid_template_rows": null,
      "height": null,
      "justify_content": null,
      "justify_items": null,
      "left": null,
      "margin": null,
      "max_height": null,
      "max_width": null,
      "min_height": null,
      "min_width": null,
      "object_fit": null,
      "object_position": null,
      "order": null,
      "overflow": null,
      "overflow_x": null,
      "overflow_y": null,
      "padding": null,
      "right": null,
      "top": null,
      "visibility": null,
      "width": null
     }
    },
    "6a2a94d0cf404adf94a6e13de9401979": {
     "model_module": "@jupyter-widgets/controls",
     "model_module_version": "1.5.0",
     "model_name": "HTMLModel",
     "state": {
      "_dom_classes": [],
      "_model_module": "@jupyter-widgets/controls",
      "_model_module_version": "1.5.0",
      "_model_name": "HTMLModel",
      "_view_count": null,
      "_view_module": "@jupyter-widgets/controls",
      "_view_module_version": "1.5.0",
      "_view_name": "HTMLView",
      "description": "",
      "description_tooltip": null,
      "layout": "IPY_MODEL_71b3bf62af394d6ea816621074a436ce",
      "placeholder": "​",
      "style": "IPY_MODEL_844b65e04efb4cdc9905c8a5e7f60ae8",
      "value": "\n<strong>\n  <h2>droping empty columns</h2></strong>\n  "
     }
    },
    "71069269efbb4662af9a15e0e1d7bcfb": {
     "model_module": "@jupyter-widgets/controls",
     "model_module_version": "1.5.0",
     "model_name": "DescriptionStyleModel",
     "state": {
      "_model_module": "@jupyter-widgets/controls",
      "_model_module_version": "1.5.0",
      "_model_name": "DescriptionStyleModel",
      "_view_count": null,
      "_view_module": "@jupyter-widgets/base",
      "_view_module_version": "1.2.0",
      "_view_name": "StyleView",
      "description_width": ""
     }
    },
    "71b3bf62af394d6ea816621074a436ce": {
     "model_module": "@jupyter-widgets/base",
     "model_module_version": "1.2.0",
     "model_name": "LayoutModel",
     "state": {
      "_model_module": "@jupyter-widgets/base",
      "_model_module_version": "1.2.0",
      "_model_name": "LayoutModel",
      "_view_count": null,
      "_view_module": "@jupyter-widgets/base",
      "_view_module_version": "1.2.0",
      "_view_name": "LayoutView",
      "align_content": null,
      "align_items": null,
      "align_self": null,
      "border": null,
      "bottom": null,
      "display": null,
      "flex": null,
      "flex_flow": null,
      "grid_area": null,
      "grid_auto_columns": null,
      "grid_auto_flow": null,
      "grid_auto_rows": null,
      "grid_column": null,
      "grid_gap": null,
      "grid_row": null,
      "grid_template_areas": null,
      "grid_template_columns": null,
      "grid_template_rows": null,
      "height": null,
      "justify_content": null,
      "justify_items": null,
      "left": null,
      "margin": null,
      "max_height": null,
      "max_width": null,
      "min_height": null,
      "min_width": null,
      "object_fit": null,
      "object_position": null,
      "order": null,
      "overflow": null,
      "overflow_x": null,
      "overflow_y": null,
      "padding": null,
      "right": null,
      "top": null,
      "visibility": null,
      "width": null
     }
    },
    "72a7799b6e614605b1cc9f48bc3ae4e8": {
     "model_module": "@jupyter-widgets/base",
     "model_module_version": "1.2.0",
     "model_name": "LayoutModel",
     "state": {
      "_model_module": "@jupyter-widgets/base",
      "_model_module_version": "1.2.0",
      "_model_name": "LayoutModel",
      "_view_count": null,
      "_view_module": "@jupyter-widgets/base",
      "_view_module_version": "1.2.0",
      "_view_name": "LayoutView",
      "align_content": null,
      "align_items": null,
      "align_self": null,
      "border": null,
      "bottom": null,
      "display": null,
      "flex": null,
      "flex_flow": null,
      "grid_area": null,
      "grid_auto_columns": null,
      "grid_auto_flow": null,
      "grid_auto_rows": null,
      "grid_column": null,
      "grid_gap": null,
      "grid_row": null,
      "grid_template_areas": null,
      "grid_template_columns": null,
      "grid_template_rows": null,
      "height": null,
      "justify_content": null,
      "justify_items": null,
      "left": null,
      "margin": null,
      "max_height": null,
      "max_width": null,
      "min_height": null,
      "min_width": null,
      "object_fit": null,
      "object_position": null,
      "order": null,
      "overflow": null,
      "overflow_x": null,
      "overflow_y": null,
      "padding": null,
      "right": null,
      "top": null,
      "visibility": null,
      "width": null
     }
    },
    "77fd43206ef74fb0acfce68715fcc726": {
     "model_module": "@jupyter-widgets/controls",
     "model_module_version": "1.5.0",
     "model_name": "DescriptionStyleModel",
     "state": {
      "_model_module": "@jupyter-widgets/controls",
      "_model_module_version": "1.5.0",
      "_model_name": "DescriptionStyleModel",
      "_view_count": null,
      "_view_module": "@jupyter-widgets/base",
      "_view_module_version": "1.2.0",
      "_view_name": "StyleView",
      "description_width": ""
     }
    },
    "78a33e12a8d041c281b73bd94747a983": {
     "model_module": "@jupyter-widgets/base",
     "model_module_version": "1.2.0",
     "model_name": "LayoutModel",
     "state": {
      "_model_module": "@jupyter-widgets/base",
      "_model_module_version": "1.2.0",
      "_model_name": "LayoutModel",
      "_view_count": null,
      "_view_module": "@jupyter-widgets/base",
      "_view_module_version": "1.2.0",
      "_view_name": "LayoutView",
      "align_content": null,
      "align_items": null,
      "align_self": null,
      "border": null,
      "bottom": null,
      "display": null,
      "flex": null,
      "flex_flow": null,
      "grid_area": null,
      "grid_auto_columns": null,
      "grid_auto_flow": null,
      "grid_auto_rows": null,
      "grid_column": null,
      "grid_gap": null,
      "grid_row": null,
      "grid_template_areas": null,
      "grid_template_columns": null,
      "grid_template_rows": null,
      "height": null,
      "justify_content": null,
      "justify_items": null,
      "left": null,
      "margin": null,
      "max_height": null,
      "max_width": null,
      "min_height": null,
      "min_width": null,
      "object_fit": null,
      "object_position": null,
      "order": null,
      "overflow": null,
      "overflow_x": null,
      "overflow_y": null,
      "padding": null,
      "right": null,
      "top": null,
      "visibility": null,
      "width": null
     }
    },
    "791ac74225f442a69be01d4171dd2b58": {
     "model_module": "@jupyter-widgets/controls",
     "model_module_version": "1.5.0",
     "model_name": "DescriptionStyleModel",
     "state": {
      "_model_module": "@jupyter-widgets/controls",
      "_model_module_version": "1.5.0",
      "_model_name": "DescriptionStyleModel",
      "_view_count": null,
      "_view_module": "@jupyter-widgets/base",
      "_view_module_version": "1.2.0",
      "_view_name": "StyleView",
      "description_width": ""
     }
    },
    "793a521e7d52460c9cdb1a6442739ff2": {
     "model_module": "@jupyter-widgets/controls",
     "model_module_version": "1.5.0",
     "model_name": "HTMLModel",
     "state": {
      "_dom_classes": [],
      "_model_module": "@jupyter-widgets/controls",
      "_model_module_version": "1.5.0",
      "_model_name": "HTMLModel",
      "_view_count": null,
      "_view_module": "@jupyter-widgets/controls",
      "_view_module_version": "1.5.0",
      "_view_name": "HTMLView",
      "description": "",
      "description_tooltip": null,
      "layout": "IPY_MODEL_0e035fc1162b483db0acdd27a451fe7f",
      "placeholder": "​",
      "style": "IPY_MODEL_8875e6bbb38742d0a937b08d498869b1",
      "value": "<font color='red'>\n      Droping empty column : mead-acid_100g \n      </font>"
     }
    },
    "80eced473da243b693fd0bd712bea2d5": {
     "model_module": "@jupyter-widgets/base",
     "model_module_version": "1.2.0",
     "model_name": "LayoutModel",
     "state": {
      "_model_module": "@jupyter-widgets/base",
      "_model_module_version": "1.2.0",
      "_model_name": "LayoutModel",
      "_view_count": null,
      "_view_module": "@jupyter-widgets/base",
      "_view_module_version": "1.2.0",
      "_view_name": "LayoutView",
      "align_content": null,
      "align_items": null,
      "align_self": null,
      "border": null,
      "bottom": null,
      "display": null,
      "flex": null,
      "flex_flow": null,
      "grid_area": null,
      "grid_auto_columns": null,
      "grid_auto_flow": null,
      "grid_auto_rows": null,
      "grid_column": null,
      "grid_gap": null,
      "grid_row": null,
      "grid_template_areas": null,
      "grid_template_columns": null,
      "grid_template_rows": null,
      "height": null,
      "justify_content": null,
      "justify_items": null,
      "left": null,
      "margin": null,
      "max_height": null,
      "max_width": null,
      "min_height": null,
      "min_width": null,
      "object_fit": null,
      "object_position": null,
      "order": null,
      "overflow": null,
      "overflow_x": null,
      "overflow_y": null,
      "padding": null,
      "right": null,
      "top": null,
      "visibility": null,
      "width": null
     }
    },
    "8312554d84664353a8e3465c4bff02de": {
     "model_module": "@jupyter-widgets/base",
     "model_module_version": "1.2.0",
     "model_name": "LayoutModel",
     "state": {
      "_model_module": "@jupyter-widgets/base",
      "_model_module_version": "1.2.0",
      "_model_name": "LayoutModel",
      "_view_count": null,
      "_view_module": "@jupyter-widgets/base",
      "_view_module_version": "1.2.0",
      "_view_name": "LayoutView",
      "align_content": null,
      "align_items": null,
      "align_self": null,
      "border": null,
      "bottom": null,
      "display": null,
      "flex": null,
      "flex_flow": null,
      "grid_area": null,
      "grid_auto_columns": null,
      "grid_auto_flow": null,
      "grid_auto_rows": null,
      "grid_column": null,
      "grid_gap": null,
      "grid_row": null,
      "grid_template_areas": null,
      "grid_template_columns": null,
      "grid_template_rows": null,
      "height": null,
      "justify_content": null,
      "justify_items": null,
      "left": null,
      "margin": null,
      "max_height": null,
      "max_width": null,
      "min_height": null,
      "min_width": null,
      "object_fit": null,
      "object_position": null,
      "order": null,
      "overflow": null,
      "overflow_x": null,
      "overflow_y": null,
      "padding": null,
      "right": null,
      "top": null,
      "visibility": null,
      "width": null
     }
    },
    "83cb40a371a847d9b6174d0d4c0403f2": {
     "model_module": "@jupyter-widgets/base",
     "model_module_version": "1.2.0",
     "model_name": "LayoutModel",
     "state": {
      "_model_module": "@jupyter-widgets/base",
      "_model_module_version": "1.2.0",
      "_model_name": "LayoutModel",
      "_view_count": null,
      "_view_module": "@jupyter-widgets/base",
      "_view_module_version": "1.2.0",
      "_view_name": "LayoutView",
      "align_content": null,
      "align_items": null,
      "align_self": null,
      "border": null,
      "bottom": null,
      "display": null,
      "flex": null,
      "flex_flow": null,
      "grid_area": null,
      "grid_auto_columns": null,
      "grid_auto_flow": null,
      "grid_auto_rows": null,
      "grid_column": null,
      "grid_gap": null,
      "grid_row": null,
      "grid_template_areas": null,
      "grid_template_columns": null,
      "grid_template_rows": null,
      "height": null,
      "justify_content": null,
      "justify_items": null,
      "left": null,
      "margin": null,
      "max_height": null,
      "max_width": null,
      "min_height": null,
      "min_width": null,
      "object_fit": null,
      "object_position": null,
      "order": null,
      "overflow": null,
      "overflow_x": null,
      "overflow_y": null,
      "padding": null,
      "right": null,
      "top": null,
      "visibility": null,
      "width": null
     }
    },
    "844b65e04efb4cdc9905c8a5e7f60ae8": {
     "model_module": "@jupyter-widgets/controls",
     "model_module_version": "1.5.0",
     "model_name": "DescriptionStyleModel",
     "state": {
      "_model_module": "@jupyter-widgets/controls",
      "_model_module_version": "1.5.0",
      "_model_name": "DescriptionStyleModel",
      "_view_count": null,
      "_view_module": "@jupyter-widgets/base",
      "_view_module_version": "1.2.0",
      "_view_name": "StyleView",
      "description_width": ""
     }
    },
    "8632737dea524a7a944c0a9dd39a2875": {
     "model_module": "@jupyter-widgets/controls",
     "model_module_version": "1.5.0",
     "model_name": "HTMLModel",
     "state": {
      "_dom_classes": [],
      "_model_module": "@jupyter-widgets/controls",
      "_model_module_version": "1.5.0",
      "_model_name": "HTMLModel",
      "_view_count": null,
      "_view_module": "@jupyter-widgets/controls",
      "_view_module_version": "1.5.0",
      "_view_name": "HTMLView",
      "description": "",
      "description_tooltip": null,
      "layout": "IPY_MODEL_83cb40a371a847d9b6174d0d4c0403f2",
      "placeholder": "​",
      "style": "IPY_MODEL_920d6162a9f848e9b70bfa1e42fc9180",
      "value": "\n<h1><strong>  Cleaining df : </h1>\n  \n  <h2>streaping columns and replacing white spaces in titles </h2></strong>\n  "
     }
    },
    "8875e6bbb38742d0a937b08d498869b1": {
     "model_module": "@jupyter-widgets/controls",
     "model_module_version": "1.5.0",
     "model_name": "DescriptionStyleModel",
     "state": {
      "_model_module": "@jupyter-widgets/controls",
      "_model_module_version": "1.5.0",
      "_model_name": "DescriptionStyleModel",
      "_view_count": null,
      "_view_module": "@jupyter-widgets/base",
      "_view_module_version": "1.2.0",
      "_view_name": "StyleView",
      "description_width": ""
     }
    },
    "89a082a08b4b448b8e3e2aaed794994a": {
     "model_module": "@jupyter-widgets/controls",
     "model_module_version": "1.5.0",
     "model_name": "DescriptionStyleModel",
     "state": {
      "_model_module": "@jupyter-widgets/controls",
      "_model_module_version": "1.5.0",
      "_model_name": "DescriptionStyleModel",
      "_view_count": null,
      "_view_module": "@jupyter-widgets/base",
      "_view_module_version": "1.2.0",
      "_view_name": "StyleView",
      "description_width": ""
     }
    },
    "8d00511f908844f284942729d4377759": {
     "model_module": "@jupyter-widgets/controls",
     "model_module_version": "1.5.0",
     "model_name": "HTMLModel",
     "state": {
      "_dom_classes": [],
      "_model_module": "@jupyter-widgets/controls",
      "_model_module_version": "1.5.0",
      "_model_name": "HTMLModel",
      "_view_count": null,
      "_view_module": "@jupyter-widgets/controls",
      "_view_module_version": "1.5.0",
      "_view_name": "HTMLView",
      "description": "",
      "description_tooltip": null,
      "layout": "IPY_MODEL_51f0dc1cede14db3824d998afce2a36a",
      "placeholder": "​",
      "style": "IPY_MODEL_98c8971481324136852931db95484051",
      "value": "\n<h1>Sample Data AFTER Cleaning :</h1> \n<h3>\n <ul>\n  <li>number full duplicated rows : 0 - 0.00% ,320772 (100%) were not empty </li> \n  <li>320772 individuals - dropped <font color='red'>0% </font></li>\n  <li>146 variables (- dropped <font color='red'>10%</font><li>\n     <ui><li>90 numeric </li>\n       <li> 56 categorial</li> \n    </ul>\n  <li>\n</ul>\n</h3> \n  "
     }
    },
    "90af72725ea344dd9005767a4b8c498f": {
     "model_module": "@jupyter-widgets/base",
     "model_module_version": "1.2.0",
     "model_name": "LayoutModel",
     "state": {
      "_model_module": "@jupyter-widgets/base",
      "_model_module_version": "1.2.0",
      "_model_name": "LayoutModel",
      "_view_count": null,
      "_view_module": "@jupyter-widgets/base",
      "_view_module_version": "1.2.0",
      "_view_name": "LayoutView",
      "align_content": null,
      "align_items": null,
      "align_self": null,
      "border": null,
      "bottom": null,
      "display": null,
      "flex": null,
      "flex_flow": null,
      "grid_area": null,
      "grid_auto_columns": null,
      "grid_auto_flow": null,
      "grid_auto_rows": null,
      "grid_column": null,
      "grid_gap": null,
      "grid_row": null,
      "grid_template_areas": null,
      "grid_template_columns": null,
      "grid_template_rows": null,
      "height": null,
      "justify_content": null,
      "justify_items": null,
      "left": null,
      "margin": null,
      "max_height": null,
      "max_width": null,
      "min_height": null,
      "min_width": null,
      "object_fit": null,
      "object_position": null,
      "order": null,
      "overflow": null,
      "overflow_x": null,
      "overflow_y": null,
      "padding": null,
      "right": null,
      "top": null,
      "visibility": null,
      "width": null
     }
    },
    "920d6162a9f848e9b70bfa1e42fc9180": {
     "model_module": "@jupyter-widgets/controls",
     "model_module_version": "1.5.0",
     "model_name": "DescriptionStyleModel",
     "state": {
      "_model_module": "@jupyter-widgets/controls",
      "_model_module_version": "1.5.0",
      "_model_name": "DescriptionStyleModel",
      "_view_count": null,
      "_view_module": "@jupyter-widgets/base",
      "_view_module_version": "1.2.0",
      "_view_name": "StyleView",
      "description_width": ""
     }
    },
    "94ec7292ce9c4a7eab50a7ad7f578287": {
     "model_module": "@jupyter-widgets/controls",
     "model_module_version": "1.5.0",
     "model_name": "DescriptionStyleModel",
     "state": {
      "_model_module": "@jupyter-widgets/controls",
      "_model_module_version": "1.5.0",
      "_model_name": "DescriptionStyleModel",
      "_view_count": null,
      "_view_module": "@jupyter-widgets/base",
      "_view_module_version": "1.2.0",
      "_view_name": "StyleView",
      "description_width": ""
     }
    },
    "98a48f29db884a2ca5e370765a30e34f": {
     "model_module": "@jupyter-widgets/controls",
     "model_module_version": "1.5.0",
     "model_name": "HTMLModel",
     "state": {
      "_dom_classes": [],
      "_model_module": "@jupyter-widgets/controls",
      "_model_module_version": "1.5.0",
      "_model_name": "HTMLModel",
      "_view_count": null,
      "_view_module": "@jupyter-widgets/controls",
      "_view_module_version": "1.5.0",
      "_view_name": "HTMLView",
      "description": "",
      "description_tooltip": null,
      "layout": "IPY_MODEL_c19b0b8d4a1f4e0a9c1ff0fcc02e62ca",
      "placeholder": "​",
      "style": "IPY_MODEL_791ac74225f442a69be01d4171dd2b58",
      "value": "<font color='red'>\n      Droping empty column : water-hardness_100g \n      </font>"
     }
    },
    "98c8971481324136852931db95484051": {
     "model_module": "@jupyter-widgets/controls",
     "model_module_version": "1.5.0",
     "model_name": "DescriptionStyleModel",
     "state": {
      "_model_module": "@jupyter-widgets/controls",
      "_model_module_version": "1.5.0",
      "_model_name": "DescriptionStyleModel",
      "_view_count": null,
      "_view_module": "@jupyter-widgets/base",
      "_view_module_version": "1.2.0",
      "_view_name": "StyleView",
      "description_width": ""
     }
    },
    "98cc36c0918d4e66a61e43453b861716": {
     "model_module": "@jupyter-widgets/controls",
     "model_module_version": "1.5.0",
     "model_name": "HTMLModel",
     "state": {
      "_dom_classes": [],
      "_model_module": "@jupyter-widgets/controls",
      "_model_module_version": "1.5.0",
      "_model_name": "HTMLModel",
      "_view_count": null,
      "_view_module": "@jupyter-widgets/controls",
      "_view_module_version": "1.5.0",
      "_view_name": "HTMLView",
      "description": "",
      "description_tooltip": null,
      "layout": "IPY_MODEL_5c432bc000c443beab8cce2992dcf00d",
      "placeholder": "​",
      "style": "IPY_MODEL_94ec7292ce9c4a7eab50a7ad7f578287",
      "value": "\n<h1><strong>  Cleaining df : </h1>\n  <h2>streaping columns and replacing white spaces in titles </h2></strong>\n  "
     }
    },
    "9d0e9ed8760e407aa421a7fb498871a3": {
     "model_module": "@jupyter-widgets/controls",
     "model_module_version": "1.5.0",
     "model_name": "HTMLModel",
     "state": {
      "_dom_classes": [],
      "_model_module": "@jupyter-widgets/controls",
      "_model_module_version": "1.5.0",
      "_model_name": "HTMLModel",
      "_view_count": null,
      "_view_module": "@jupyter-widgets/controls",
      "_view_module_version": "1.5.0",
      "_view_name": "HTMLView",
      "description": "",
      "description_tooltip": null,
      "layout": "IPY_MODEL_22f1b8ebeaa3469497e9b5449441bf80",
      "placeholder": "​",
      "style": "IPY_MODEL_3d2b2f536f5043d99ad9bb0d4d4ed416",
      "value": "\n<h1>Sample Data AFTER Cleaning :</h1> \n<h3>\n <ul>\n  <li>number full duplicated rows : 0 - 0.00% ,320772 (100%) were not empty </li> \n  <li>320772 individuals - dropped <font color='red'>0% </font></li>\n  <li>62 variables (- dropped <font color='red'>0%</font><li>\n     <ui><li>20 numeric </li>\n       <li> 42 categorial</li> \n    </ul>\n  <li>\n</ul>\n</h3> \n  "
     }
    },
    "a3bbabe0d78545f5b0941576df4259bd": {
     "model_module": "@jupyter-widgets/controls",
     "model_module_version": "1.5.0",
     "model_name": "DescriptionStyleModel",
     "state": {
      "_model_module": "@jupyter-widgets/controls",
      "_model_module_version": "1.5.0",
      "_model_name": "DescriptionStyleModel",
      "_view_count": null,
      "_view_module": "@jupyter-widgets/base",
      "_view_module_version": "1.2.0",
      "_view_name": "StyleView",
      "description_width": ""
     }
    },
    "a5fb8049c4164f7dab1e44e2742774cc": {
     "model_module": "@jupyter-widgets/base",
     "model_module_version": "1.2.0",
     "model_name": "LayoutModel",
     "state": {
      "_model_module": "@jupyter-widgets/base",
      "_model_module_version": "1.2.0",
      "_model_name": "LayoutModel",
      "_view_count": null,
      "_view_module": "@jupyter-widgets/base",
      "_view_module_version": "1.2.0",
      "_view_name": "LayoutView",
      "align_content": null,
      "align_items": null,
      "align_self": null,
      "border": null,
      "bottom": null,
      "display": null,
      "flex": null,
      "flex_flow": null,
      "grid_area": null,
      "grid_auto_columns": null,
      "grid_auto_flow": null,
      "grid_auto_rows": null,
      "grid_column": null,
      "grid_gap": null,
      "grid_row": null,
      "grid_template_areas": null,
      "grid_template_columns": null,
      "grid_template_rows": null,
      "height": null,
      "justify_content": null,
      "justify_items": null,
      "left": null,
      "margin": null,
      "max_height": null,
      "max_width": null,
      "min_height": null,
      "min_width": null,
      "object_fit": null,
      "object_position": null,
      "order": null,
      "overflow": null,
      "overflow_x": null,
      "overflow_y": null,
      "padding": null,
      "right": null,
      "top": null,
      "visibility": null,
      "width": null
     }
    },
    "a77c0f56219b4d3fb0559fb4a15d1a58": {
     "model_module": "@jupyter-widgets/controls",
     "model_module_version": "1.5.0",
     "model_name": "HTMLModel",
     "state": {
      "_dom_classes": [],
      "_model_module": "@jupyter-widgets/controls",
      "_model_module_version": "1.5.0",
      "_model_name": "HTMLModel",
      "_view_count": null,
      "_view_module": "@jupyter-widgets/controls",
      "_view_module_version": "1.5.0",
      "_view_name": "HTMLView",
      "description": "",
      "description_tooltip": null,
      "layout": "IPY_MODEL_f2a7b0c9816842ebbf8536d5fb0eac07",
      "placeholder": "​",
      "style": "IPY_MODEL_77fd43206ef74fb0acfce68715fcc726",
      "value": "\n  <h2>Dropping empty rows </h2></strong>\n  "
     }
    },
    "a8291045b48044d2a56e03c6bfd590ff": {
     "model_module": "@jupyter-widgets/base",
     "model_module_version": "1.2.0",
     "model_name": "LayoutModel",
     "state": {
      "_model_module": "@jupyter-widgets/base",
      "_model_module_version": "1.2.0",
      "_model_name": "LayoutModel",
      "_view_count": null,
      "_view_module": "@jupyter-widgets/base",
      "_view_module_version": "1.2.0",
      "_view_name": "LayoutView",
      "align_content": null,
      "align_items": null,
      "align_self": null,
      "border": null,
      "bottom": null,
      "display": null,
      "flex": null,
      "flex_flow": null,
      "grid_area": null,
      "grid_auto_columns": null,
      "grid_auto_flow": null,
      "grid_auto_rows": null,
      "grid_column": null,
      "grid_gap": null,
      "grid_row": null,
      "grid_template_areas": null,
      "grid_template_columns": null,
      "grid_template_rows": null,
      "height": null,
      "justify_content": null,
      "justify_items": null,
      "left": null,
      "margin": null,
      "max_height": null,
      "max_width": null,
      "min_height": null,
      "min_width": null,
      "object_fit": null,
      "object_position": null,
      "order": null,
      "overflow": null,
      "overflow_x": null,
      "overflow_y": null,
      "padding": null,
      "right": null,
      "top": null,
      "visibility": null,
      "width": null
     }
    },
    "a87811fa71794eb69bf2567e380bd3fb": {
     "model_module": "@jupyter-widgets/controls",
     "model_module_version": "1.5.0",
     "model_name": "HTMLModel",
     "state": {
      "_dom_classes": [],
      "_model_module": "@jupyter-widgets/controls",
      "_model_module_version": "1.5.0",
      "_model_name": "HTMLModel",
      "_view_count": null,
      "_view_module": "@jupyter-widgets/controls",
      "_view_module_version": "1.5.0",
      "_view_name": "HTMLView",
      "description": "",
      "description_tooltip": null,
      "layout": "IPY_MODEL_a8291045b48044d2a56e03c6bfd590ff",
      "placeholder": "​",
      "style": "IPY_MODEL_c223f73e35e74b899beb1fa636282679",
      "value": "<font color='red'>\n      Droping empty column : lignoceric-acid_100g \n      </font>"
     }
    },
    "a879533bf6844a2dac31dfa471234002": {
     "model_module": "@jupyter-widgets/controls",
     "model_module_version": "1.5.0",
     "model_name": "DescriptionStyleModel",
     "state": {
      "_model_module": "@jupyter-widgets/controls",
      "_model_module_version": "1.5.0",
      "_model_name": "DescriptionStyleModel",
      "_view_count": null,
      "_view_module": "@jupyter-widgets/base",
      "_view_module_version": "1.2.0",
      "_view_name": "StyleView",
      "description_width": ""
     }
    },
    "ac9075629ebc49d9b34b7ff368945302": {
     "model_module": "@jupyter-widgets/base",
     "model_module_version": "1.2.0",
     "model_name": "LayoutModel",
     "state": {
      "_model_module": "@jupyter-widgets/base",
      "_model_module_version": "1.2.0",
      "_model_name": "LayoutModel",
      "_view_count": null,
      "_view_module": "@jupyter-widgets/base",
      "_view_module_version": "1.2.0",
      "_view_name": "LayoutView",
      "align_content": null,
      "align_items": null,
      "align_self": null,
      "border": null,
      "bottom": null,
      "display": null,
      "flex": null,
      "flex_flow": null,
      "grid_area": null,
      "grid_auto_columns": null,
      "grid_auto_flow": null,
      "grid_auto_rows": null,
      "grid_column": null,
      "grid_gap": null,
      "grid_row": null,
      "grid_template_areas": null,
      "grid_template_columns": null,
      "grid_template_rows": null,
      "height": null,
      "justify_content": null,
      "justify_items": null,
      "left": null,
      "margin": null,
      "max_height": null,
      "max_width": null,
      "min_height": null,
      "min_width": null,
      "object_fit": null,
      "object_position": null,
      "order": null,
      "overflow": null,
      "overflow_x": null,
      "overflow_y": null,
      "padding": null,
      "right": null,
      "top": null,
      "visibility": null,
      "width": null
     }
    },
    "b3721ca820694fe8871f3ce55b0f3e78": {
     "model_module": "@jupyter-widgets/controls",
     "model_module_version": "1.5.0",
     "model_name": "DescriptionStyleModel",
     "state": {
      "_model_module": "@jupyter-widgets/controls",
      "_model_module_version": "1.5.0",
      "_model_name": "DescriptionStyleModel",
      "_view_count": null,
      "_view_module": "@jupyter-widgets/base",
      "_view_module_version": "1.2.0",
      "_view_name": "StyleView",
      "description_width": ""
     }
    },
    "b3c0908801044c4fb9d4632a1d05b214": {
     "model_module": "@jupyter-widgets/controls",
     "model_module_version": "1.5.0",
     "model_name": "DescriptionStyleModel",
     "state": {
      "_model_module": "@jupyter-widgets/controls",
      "_model_module_version": "1.5.0",
      "_model_name": "DescriptionStyleModel",
      "_view_count": null,
      "_view_module": "@jupyter-widgets/base",
      "_view_module_version": "1.2.0",
      "_view_name": "StyleView",
      "description_width": ""
     }
    },
    "b8a5a9498cb544c78119cace530a8ccd": {
     "model_module": "@jupyter-widgets/controls",
     "model_module_version": "1.5.0",
     "model_name": "HTMLModel",
     "state": {
      "_dom_classes": [],
      "_model_module": "@jupyter-widgets/controls",
      "_model_module_version": "1.5.0",
      "_model_name": "HTMLModel",
      "_view_count": null,
      "_view_module": "@jupyter-widgets/controls",
      "_view_module_version": "1.5.0",
      "_view_name": "HTMLView",
      "description": "",
      "description_tooltip": null,
      "layout": "IPY_MODEL_f8ab3242c7b5404c816c8732a83ea694",
      "placeholder": "​",
      "style": "IPY_MODEL_3c273f7ba3b04a5fa51072b71c7b080a",
      "value": "<font color='red'>\n      Droping empty column : melissic-acid_100g \n      </font>"
     }
    },
    "ba2c0eaac51a41bab315fa238696f846": {
     "model_module": "@jupyter-widgets/controls",
     "model_module_version": "1.5.0",
     "model_name": "DescriptionStyleModel",
     "state": {
      "_model_module": "@jupyter-widgets/controls",
      "_model_module_version": "1.5.0",
      "_model_name": "DescriptionStyleModel",
      "_view_count": null,
      "_view_module": "@jupyter-widgets/base",
      "_view_module_version": "1.2.0",
      "_view_name": "StyleView",
      "description_width": ""
     }
    },
    "baf59e22f00b4d4d93e3986ea5cf2089": {
     "model_module": "@jupyter-widgets/controls",
     "model_module_version": "1.5.0",
     "model_name": "DescriptionStyleModel",
     "state": {
      "_model_module": "@jupyter-widgets/controls",
      "_model_module_version": "1.5.0",
      "_model_name": "DescriptionStyleModel",
      "_view_count": null,
      "_view_module": "@jupyter-widgets/base",
      "_view_module_version": "1.2.0",
      "_view_name": "StyleView",
      "description_width": ""
     }
    },
    "c19b0b8d4a1f4e0a9c1ff0fcc02e62ca": {
     "model_module": "@jupyter-widgets/base",
     "model_module_version": "1.2.0",
     "model_name": "LayoutModel",
     "state": {
      "_model_module": "@jupyter-widgets/base",
      "_model_module_version": "1.2.0",
      "_model_name": "LayoutModel",
      "_view_count": null,
      "_view_module": "@jupyter-widgets/base",
      "_view_module_version": "1.2.0",
      "_view_name": "LayoutView",
      "align_content": null,
      "align_items": null,
      "align_self": null,
      "border": null,
      "bottom": null,
      "display": null,
      "flex": null,
      "flex_flow": null,
      "grid_area": null,
      "grid_auto_columns": null,
      "grid_auto_flow": null,
      "grid_auto_rows": null,
      "grid_column": null,
      "grid_gap": null,
      "grid_row": null,
      "grid_template_areas": null,
      "grid_template_columns": null,
      "grid_template_rows": null,
      "height": null,
      "justify_content": null,
      "justify_items": null,
      "left": null,
      "margin": null,
      "max_height": null,
      "max_width": null,
      "min_height": null,
      "min_width": null,
      "object_fit": null,
      "object_position": null,
      "order": null,
      "overflow": null,
      "overflow_x": null,
      "overflow_y": null,
      "padding": null,
      "right": null,
      "top": null,
      "visibility": null,
      "width": null
     }
    },
    "c223f73e35e74b899beb1fa636282679": {
     "model_module": "@jupyter-widgets/controls",
     "model_module_version": "1.5.0",
     "model_name": "DescriptionStyleModel",
     "state": {
      "_model_module": "@jupyter-widgets/controls",
      "_model_module_version": "1.5.0",
      "_model_name": "DescriptionStyleModel",
      "_view_count": null,
      "_view_module": "@jupyter-widgets/base",
      "_view_module_version": "1.2.0",
      "_view_name": "StyleView",
      "description_width": ""
     }
    },
    "c641b90e60d046d9a2cb54e69e3ee701": {
     "model_module": "@jupyter-widgets/controls",
     "model_module_version": "1.5.0",
     "model_name": "DescriptionStyleModel",
     "state": {
      "_model_module": "@jupyter-widgets/controls",
      "_model_module_version": "1.5.0",
      "_model_name": "DescriptionStyleModel",
      "_view_count": null,
      "_view_module": "@jupyter-widgets/base",
      "_view_module_version": "1.2.0",
      "_view_name": "StyleView",
      "description_width": ""
     }
    },
    "ce73eecb0ee1460595615cb8aa97b219": {
     "model_module": "@jupyter-widgets/controls",
     "model_module_version": "1.5.0",
     "model_name": "HTMLModel",
     "state": {
      "_dom_classes": [],
      "_model_module": "@jupyter-widgets/controls",
      "_model_module_version": "1.5.0",
      "_model_name": "HTMLModel",
      "_view_count": null,
      "_view_module": "@jupyter-widgets/controls",
      "_view_module_version": "1.5.0",
      "_view_name": "HTMLView",
      "description": "",
      "description_tooltip": null,
      "layout": "IPY_MODEL_06a8a90433a04aed9e98142609470258",
      "placeholder": "​",
      "style": "IPY_MODEL_ba2c0eaac51a41bab315fa238696f846",
      "value": "<font color='red'>\n      Droping empty column : erucic-acid_100g \n      </font>"
     }
    },
    "d73fc9b12f2e49b596961af136a7a00d": {
     "model_module": "@jupyter-widgets/base",
     "model_module_version": "1.2.0",
     "model_name": "LayoutModel",
     "state": {
      "_model_module": "@jupyter-widgets/base",
      "_model_module_version": "1.2.0",
      "_model_name": "LayoutModel",
      "_view_count": null,
      "_view_module": "@jupyter-widgets/base",
      "_view_module_version": "1.2.0",
      "_view_name": "LayoutView",
      "align_content": null,
      "align_items": null,
      "align_self": null,
      "border": null,
      "bottom": null,
      "display": null,
      "flex": null,
      "flex_flow": null,
      "grid_area": null,
      "grid_auto_columns": null,
      "grid_auto_flow": null,
      "grid_auto_rows": null,
      "grid_column": null,
      "grid_gap": null,
      "grid_row": null,
      "grid_template_areas": null,
      "grid_template_columns": null,
      "grid_template_rows": null,
      "height": null,
      "justify_content": null,
      "justify_items": null,
      "left": null,
      "margin": null,
      "max_height": null,
      "max_width": null,
      "min_height": null,
      "min_width": null,
      "object_fit": null,
      "object_position": null,
      "order": null,
      "overflow": null,
      "overflow_x": null,
      "overflow_y": null,
      "padding": null,
      "right": null,
      "top": null,
      "visibility": null,
      "width": null
     }
    },
    "e3bb5186033c44088ba0938ed2460866": {
     "model_module": "@jupyter-widgets/controls",
     "model_module_version": "1.5.0",
     "model_name": "HTMLModel",
     "state": {
      "_dom_classes": [],
      "_model_module": "@jupyter-widgets/controls",
      "_model_module_version": "1.5.0",
      "_model_name": "HTMLModel",
      "_view_count": null,
      "_view_module": "@jupyter-widgets/controls",
      "_view_module_version": "1.5.0",
      "_view_name": "HTMLView",
      "description": "",
      "description_tooltip": null,
      "layout": "IPY_MODEL_5db599965b95479b8e85334d99f0004d",
      "placeholder": "​",
      "style": "IPY_MODEL_a879533bf6844a2dac31dfa471234002",
      "value": "<font color='red'>\n      Droping empty column : nervonic-acid_100g \n      </font>"
     }
    },
    "f1b28810f5584e7a858c14c616385a91": {
     "model_module": "@jupyter-widgets/base",
     "model_module_version": "1.2.0",
     "model_name": "LayoutModel",
     "state": {
      "_model_module": "@jupyter-widgets/base",
      "_model_module_version": "1.2.0",
      "_model_name": "LayoutModel",
      "_view_count": null,
      "_view_module": "@jupyter-widgets/base",
      "_view_module_version": "1.2.0",
      "_view_name": "LayoutView",
      "align_content": null,
      "align_items": null,
      "align_self": null,
      "border": null,
      "bottom": null,
      "display": null,
      "flex": null,
      "flex_flow": null,
      "grid_area": null,
      "grid_auto_columns": null,
      "grid_auto_flow": null,
      "grid_auto_rows": null,
      "grid_column": null,
      "grid_gap": null,
      "grid_row": null,
      "grid_template_areas": null,
      "grid_template_columns": null,
      "grid_template_rows": null,
      "height": null,
      "justify_content": null,
      "justify_items": null,
      "left": null,
      "margin": null,
      "max_height": null,
      "max_width": null,
      "min_height": null,
      "min_width": null,
      "object_fit": null,
      "object_position": null,
      "order": null,
      "overflow": null,
      "overflow_x": null,
      "overflow_y": null,
      "padding": null,
      "right": null,
      "top": null,
      "visibility": null,
      "width": null
     }
    },
    "f2a7b0c9816842ebbf8536d5fb0eac07": {
     "model_module": "@jupyter-widgets/base",
     "model_module_version": "1.2.0",
     "model_name": "LayoutModel",
     "state": {
      "_model_module": "@jupyter-widgets/base",
      "_model_module_version": "1.2.0",
      "_model_name": "LayoutModel",
      "_view_count": null,
      "_view_module": "@jupyter-widgets/base",
      "_view_module_version": "1.2.0",
      "_view_name": "LayoutView",
      "align_content": null,
      "align_items": null,
      "align_self": null,
      "border": null,
      "bottom": null,
      "display": null,
      "flex": null,
      "flex_flow": null,
      "grid_area": null,
      "grid_auto_columns": null,
      "grid_auto_flow": null,
      "grid_auto_rows": null,
      "grid_column": null,
      "grid_gap": null,
      "grid_row": null,
      "grid_template_areas": null,
      "grid_template_columns": null,
      "grid_template_rows": null,
      "height": null,
      "justify_content": null,
      "justify_items": null,
      "left": null,
      "margin": null,
      "max_height": null,
      "max_width": null,
      "min_height": null,
      "min_width": null,
      "object_fit": null,
      "object_position": null,
      "order": null,
      "overflow": null,
      "overflow_x": null,
      "overflow_y": null,
      "padding": null,
      "right": null,
      "top": null,
      "visibility": null,
      "width": null
     }
    },
    "f4bbdebe52c1479ab3fc7faad96913c3": {
     "model_module": "@jupyter-widgets/controls",
     "model_module_version": "1.5.0",
     "model_name": "HTMLModel",
     "state": {
      "_dom_classes": [],
      "_model_module": "@jupyter-widgets/controls",
      "_model_module_version": "1.5.0",
      "_model_name": "HTMLModel",
      "_view_count": null,
      "_view_module": "@jupyter-widgets/controls",
      "_view_module_version": "1.5.0",
      "_view_name": "HTMLView",
      "description": "",
      "description_tooltip": null,
      "layout": "IPY_MODEL_587c117f1f7c4f7197fbda791ef43612",
      "placeholder": "​",
      "style": "IPY_MODEL_4b3e285c44c74ad4a7c33aaabf66e42b",
      "value": "<font color='red'>\n      Droping empty column : cerotic-acid_100g \n      </font>"
     }
    },
    "f8ab3242c7b5404c816c8732a83ea694": {
     "model_module": "@jupyter-widgets/base",
     "model_module_version": "1.2.0",
     "model_name": "LayoutModel",
     "state": {
      "_model_module": "@jupyter-widgets/base",
      "_model_module_version": "1.2.0",
      "_model_name": "LayoutModel",
      "_view_count": null,
      "_view_module": "@jupyter-widgets/base",
      "_view_module_version": "1.2.0",
      "_view_name": "LayoutView",
      "align_content": null,
      "align_items": null,
      "align_self": null,
      "border": null,
      "bottom": null,
      "display": null,
      "flex": null,
      "flex_flow": null,
      "grid_area": null,
      "grid_auto_columns": null,
      "grid_auto_flow": null,
      "grid_auto_rows": null,
      "grid_column": null,
      "grid_gap": null,
      "grid_row": null,
      "grid_template_areas": null,
      "grid_template_columns": null,
      "grid_template_rows": null,
      "height": null,
      "justify_content": null,
      "justify_items": null,
      "left": null,
      "margin": null,
      "max_height": null,
      "max_width": null,
      "min_height": null,
      "min_width": null,
      "object_fit": null,
      "object_position": null,
      "order": null,
      "overflow": null,
      "overflow_x": null,
      "overflow_y": null,
      "padding": null,
      "right": null,
      "top": null,
      "visibility": null,
      "width": null
     }
    },
    "f96086f600c545cda93756efc9932550": {
     "model_module": "@jupyter-widgets/controls",
     "model_module_version": "1.5.0",
     "model_name": "HTMLModel",
     "state": {
      "_dom_classes": [],
      "_model_module": "@jupyter-widgets/controls",
      "_model_module_version": "1.5.0",
      "_model_name": "HTMLModel",
      "_view_count": null,
      "_view_module": "@jupyter-widgets/controls",
      "_view_module_version": "1.5.0",
      "_view_name": "HTMLView",
      "description": "",
      "description_tooltip": null,
      "layout": "IPY_MODEL_5b8b9d0991ec49fa8fcf61664d6c913a",
      "placeholder": "​",
      "style": "IPY_MODEL_3a8a7f216497467a8eaf221e88caad49",
      "value": "<font color='red'>\n      Droping empty column : caproic-acid_100g \n      </font>"
     }
    },
    "fa34979195f9437d9f270514f8aa4999": {
     "model_module": "@jupyter-widgets/controls",
     "model_module_version": "1.5.0",
     "model_name": "HTMLModel",
     "state": {
      "_dom_classes": [],
      "_model_module": "@jupyter-widgets/controls",
      "_model_module_version": "1.5.0",
      "_model_name": "HTMLModel",
      "_view_count": null,
      "_view_module": "@jupyter-widgets/controls",
      "_view_module_version": "1.5.0",
      "_view_name": "HTMLView",
      "description": "",
      "description_tooltip": null,
      "layout": "IPY_MODEL_80eced473da243b693fd0bd712bea2d5",
      "placeholder": "​",
      "style": "IPY_MODEL_5875b7a59e0f49daa85e9c64ed58d1dd",
      "value": "<font color='red'>\n      Droping empty column : no_nutriments \n      </font>"
     }
    }
   }
  }
 },
 "nbformat": 4,
 "nbformat_minor": 1
}
